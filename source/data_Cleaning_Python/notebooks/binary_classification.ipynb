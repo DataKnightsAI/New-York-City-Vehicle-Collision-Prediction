{
 "cells": [
  {
   "cell_type": "code",
   "execution_count": null,
   "metadata": {},
   "outputs": [],
   "source": [
    "#binary classification problem\n",
    "#predict whether or not a motor crash will happen given month, day, hour, and precinct"
   ]
  },
  {
   "cell_type": "code",
   "execution_count": 1,
   "metadata": {},
   "outputs": [
    {
     "name": "stdout",
     "output_type": "stream",
     "text": [
      "Checking whether there is an H2O instance running at http://localhost:54321 ..... not found.\n",
      "Attempting to start a local H2O server...\n",
      "; OpenJDK 64-Bit Server VM (Zulu 8.20.0.5-win64) (build 25.121-b15, mixed mode)\n",
      "  Starting server from C:\\Users\\alexf\\Anaconda3\\envs\\NYC_CRASH_ENV\\lib\\site-packages\\h2o\\backend\\bin\\h2o.jar\n",
      "  Ice root: C:\\Users\\alexf\\AppData\\Local\\Temp\\tmp53435nnx\n",
      "  JVM stdout: C:\\Users\\alexf\\AppData\\Local\\Temp\\tmp53435nnx\\h2o_alexf_started_from_python.out\n",
      "  JVM stderr: C:\\Users\\alexf\\AppData\\Local\\Temp\\tmp53435nnx\\h2o_alexf_started_from_python.err\n",
      "  Server is running at http://127.0.0.1:54321\n",
      "Connecting to H2O server at http://127.0.0.1:54321 ... successful.\n"
     ]
    },
    {
     "data": {
      "text/html": [
       "<div style=\"overflow:auto\"><table style=\"width:50%\"><tr><td>H2O cluster uptime:</td>\n",
       "<td>02 secs</td></tr>\n",
       "<tr><td>H2O cluster timezone:</td>\n",
       "<td>America/New_York</td></tr>\n",
       "<tr><td>H2O data parsing timezone:</td>\n",
       "<td>UTC</td></tr>\n",
       "<tr><td>H2O cluster version:</td>\n",
       "<td>3.28.0.3</td></tr>\n",
       "<tr><td>H2O cluster version age:</td>\n",
       "<td>5 days </td></tr>\n",
       "<tr><td>H2O cluster name:</td>\n",
       "<td>H2O_from_python_alexf_h348b6</td></tr>\n",
       "<tr><td>H2O cluster total nodes:</td>\n",
       "<td>1</td></tr>\n",
       "<tr><td>H2O cluster free memory:</td>\n",
       "<td>6.223 Gb</td></tr>\n",
       "<tr><td>H2O cluster total cores:</td>\n",
       "<td>12</td></tr>\n",
       "<tr><td>H2O cluster allowed cores:</td>\n",
       "<td>12</td></tr>\n",
       "<tr><td>H2O cluster status:</td>\n",
       "<td>accepting new members, healthy</td></tr>\n",
       "<tr><td>H2O connection url:</td>\n",
       "<td>http://127.0.0.1:54321</td></tr>\n",
       "<tr><td>H2O connection proxy:</td>\n",
       "<td>{'http': None, 'https': None}</td></tr>\n",
       "<tr><td>H2O internal security:</td>\n",
       "<td>False</td></tr>\n",
       "<tr><td>H2O API Extensions:</td>\n",
       "<td>Amazon S3, Algos, AutoML, Core V3, TargetEncoder, Core V4</td></tr>\n",
       "<tr><td>Python version:</td>\n",
       "<td>3.7.3 final</td></tr></table></div>"
      ],
      "text/plain": [
       "--------------------------  ---------------------------------------------------------\n",
       "H2O cluster uptime:         02 secs\n",
       "H2O cluster timezone:       America/New_York\n",
       "H2O data parsing timezone:  UTC\n",
       "H2O cluster version:        3.28.0.3\n",
       "H2O cluster version age:    5 days\n",
       "H2O cluster name:           H2O_from_python_alexf_h348b6\n",
       "H2O cluster total nodes:    1\n",
       "H2O cluster free memory:    6.223 Gb\n",
       "H2O cluster total cores:    12\n",
       "H2O cluster allowed cores:  12\n",
       "H2O cluster status:         accepting new members, healthy\n",
       "H2O connection url:         http://127.0.0.1:54321\n",
       "H2O connection proxy:       {'http': None, 'https': None}\n",
       "H2O internal security:      False\n",
       "H2O API Extensions:         Amazon S3, Algos, AutoML, Core V3, TargetEncoder, Core V4\n",
       "Python version:             3.7.3 final\n",
       "--------------------------  ---------------------------------------------------------"
      ]
     },
     "metadata": {},
     "output_type": "display_data"
    }
   ],
   "source": [
    "#using H2O for now because I don't have time\n",
    "import h2o\n",
    "from h2o.automl import H2OAutoML\n",
    "h2o.init(min_mem_size='5G', max_mem_size='7G')"
   ]
  },
  {
   "cell_type": "code",
   "execution_count": 2,
   "metadata": {},
   "outputs": [
    {
     "name": "stdout",
     "output_type": "stream",
     "text": [
      "Parse progress: |█████████████████████████████████████████████████████████| 100%\n"
     ]
    }
   ],
   "source": [
    "df = h2o.import_file('..\\..\\data\\motor_vehicle_collisions_crashes_cleaned.csv')"
   ]
  },
  {
   "cell_type": "code",
   "execution_count": 3,
   "metadata": {},
   "outputs": [
    {
     "data": {
      "text/plain": [
       "['id',\n",
       " 'precinct',\n",
       " 'timestamp',\n",
       " 'month',\n",
       " 'week',\n",
       " 'day',\n",
       " 'weekday',\n",
       " 'hour',\n",
       " 'total_number_of_crashes',\n",
       " 'did_crash_happen']"
      ]
     },
     "execution_count": 3,
     "metadata": {},
     "output_type": "execute_result"
    }
   ],
   "source": [
    "df.columns"
   ]
  },
  {
   "cell_type": "code",
   "execution_count": 4,
   "metadata": {},
   "outputs": [
    {
     "name": "stdout",
     "output_type": "stream",
     "text": [
      "Rows:5111645\n",
      "Cols:10\n",
      "\n",
      "Chunk compression summary: \n"
     ]
    },
    {
     "data": {
      "text/html": [
       "<div>\n",
       "<style scoped>\n",
       "    .dataframe tbody tr th:only-of-type {\n",
       "        vertical-align: middle;\n",
       "    }\n",
       "\n",
       "    .dataframe tbody tr th {\n",
       "        vertical-align: top;\n",
       "    }\n",
       "\n",
       "    .dataframe thead th {\n",
       "        text-align: right;\n",
       "    }\n",
       "</style>\n",
       "<table border=\"1\" class=\"dataframe\">\n",
       "  <thead>\n",
       "    <tr style=\"text-align: right;\">\n",
       "      <th></th>\n",
       "      <th>chunk_type</th>\n",
       "      <th>chunk_name</th>\n",
       "      <th>count</th>\n",
       "      <th>count_percentage</th>\n",
       "      <th>size</th>\n",
       "      <th>size_percentage</th>\n",
       "    </tr>\n",
       "  </thead>\n",
       "  <tbody>\n",
       "    <tr>\n",
       "      <th>0</th>\n",
       "      <td>CBS</td>\n",
       "      <td>Binary</td>\n",
       "      <td>44</td>\n",
       "      <td>9.166667</td>\n",
       "      <td>575.0 KB</td>\n",
       "      <td>0.601834</td>\n",
       "    </tr>\n",
       "    <tr>\n",
       "      <th>1</th>\n",
       "      <td>CXI</td>\n",
       "      <td>Sparse Integers</td>\n",
       "      <td>8</td>\n",
       "      <td>1.666667</td>\n",
       "      <td>501.3 KB</td>\n",
       "      <td>0.524776</td>\n",
       "    </tr>\n",
       "    <tr>\n",
       "      <th>2</th>\n",
       "      <td>C1N</td>\n",
       "      <td>1-Byte Integers (w/o NAs)</td>\n",
       "      <td>332</td>\n",
       "      <td>69.166664</td>\n",
       "      <td>33.7 MB</td>\n",
       "      <td>36.163840</td>\n",
       "    </tr>\n",
       "    <tr>\n",
       "      <th>3</th>\n",
       "      <td>C4</td>\n",
       "      <td>4-Byte Integers</td>\n",
       "      <td>48</td>\n",
       "      <td>10.000000</td>\n",
       "      <td>19.5 MB</td>\n",
       "      <td>20.904297</td>\n",
       "    </tr>\n",
       "    <tr>\n",
       "      <th>4</th>\n",
       "      <td>C8</td>\n",
       "      <td>8-byte Integers</td>\n",
       "      <td>48</td>\n",
       "      <td>10.000000</td>\n",
       "      <td>39.0 MB</td>\n",
       "      <td>41.805260</td>\n",
       "    </tr>\n",
       "  </tbody>\n",
       "</table>\n",
       "</div>"
      ],
      "text/plain": [
       "  chunk_type                 chunk_name  count  count_percentage        size  \\\n",
       "0        CBS                     Binary     44          9.166667    575.0 KB   \n",
       "1        CXI            Sparse Integers      8          1.666667    501.3 KB   \n",
       "2        C1N  1-Byte Integers (w/o NAs)    332         69.166664     33.7 MB   \n",
       "3         C4            4-Byte Integers     48         10.000000     19.5 MB   \n",
       "4         C8            8-byte Integers     48         10.000000     39.0 MB   \n",
       "\n",
       "   size_percentage  \n",
       "0         0.601834  \n",
       "1         0.524776  \n",
       "2        36.163840  \n",
       "3        20.904297  \n",
       "4        41.805260  "
      ]
     },
     "metadata": {},
     "output_type": "display_data"
    },
    {
     "name": "stdout",
     "output_type": "stream",
     "text": [
      "\n",
      "Frame distribution summary: \n"
     ]
    },
    {
     "data": {
      "text/html": [
       "<div>\n",
       "<style scoped>\n",
       "    .dataframe tbody tr th:only-of-type {\n",
       "        vertical-align: middle;\n",
       "    }\n",
       "\n",
       "    .dataframe tbody tr th {\n",
       "        vertical-align: top;\n",
       "    }\n",
       "\n",
       "    .dataframe thead th {\n",
       "        text-align: right;\n",
       "    }\n",
       "</style>\n",
       "<table border=\"1\" class=\"dataframe\">\n",
       "  <thead>\n",
       "    <tr style=\"text-align: right;\">\n",
       "      <th></th>\n",
       "      <th></th>\n",
       "      <th>size</th>\n",
       "      <th>number_of_rows</th>\n",
       "      <th>number_of_chunks_per_column</th>\n",
       "      <th>number_of_chunks</th>\n",
       "    </tr>\n",
       "  </thead>\n",
       "  <tbody>\n",
       "    <tr>\n",
       "      <th>0</th>\n",
       "      <td>127.0.0.1:54321</td>\n",
       "      <td>93.3 MB</td>\n",
       "      <td>5111645.0</td>\n",
       "      <td>48.0</td>\n",
       "      <td>480.0</td>\n",
       "    </tr>\n",
       "    <tr>\n",
       "      <th>1</th>\n",
       "      <td>mean</td>\n",
       "      <td>93.3 MB</td>\n",
       "      <td>5111645.0</td>\n",
       "      <td>48.0</td>\n",
       "      <td>480.0</td>\n",
       "    </tr>\n",
       "    <tr>\n",
       "      <th>2</th>\n",
       "      <td>min</td>\n",
       "      <td>93.3 MB</td>\n",
       "      <td>5111645.0</td>\n",
       "      <td>48.0</td>\n",
       "      <td>480.0</td>\n",
       "    </tr>\n",
       "    <tr>\n",
       "      <th>3</th>\n",
       "      <td>max</td>\n",
       "      <td>93.3 MB</td>\n",
       "      <td>5111645.0</td>\n",
       "      <td>48.0</td>\n",
       "      <td>480.0</td>\n",
       "    </tr>\n",
       "    <tr>\n",
       "      <th>4</th>\n",
       "      <td>stddev</td>\n",
       "      <td>0  B</td>\n",
       "      <td>0.0</td>\n",
       "      <td>0.0</td>\n",
       "      <td>0.0</td>\n",
       "    </tr>\n",
       "    <tr>\n",
       "      <th>5</th>\n",
       "      <td>total</td>\n",
       "      <td>93.3 MB</td>\n",
       "      <td>5111645.0</td>\n",
       "      <td>48.0</td>\n",
       "      <td>480.0</td>\n",
       "    </tr>\n",
       "  </tbody>\n",
       "</table>\n",
       "</div>"
      ],
      "text/plain": [
       "                          size  number_of_rows  number_of_chunks_per_column  \\\n",
       "0  127.0.0.1:54321     93.3 MB       5111645.0                         48.0   \n",
       "1             mean     93.3 MB       5111645.0                         48.0   \n",
       "2              min     93.3 MB       5111645.0                         48.0   \n",
       "3              max     93.3 MB       5111645.0                         48.0   \n",
       "4           stddev        0  B             0.0                          0.0   \n",
       "5            total     93.3 MB       5111645.0                         48.0   \n",
       "\n",
       "   number_of_chunks  \n",
       "0             480.0  \n",
       "1             480.0  \n",
       "2             480.0  \n",
       "3             480.0  \n",
       "4               0.0  \n",
       "5             480.0  "
      ]
     },
     "metadata": {},
     "output_type": "display_data"
    },
    {
     "name": "stdout",
     "output_type": "stream",
     "text": [
      "\n",
      "\n"
     ]
    },
    {
     "data": {
      "text/html": [
       "<table>\n",
       "<thead>\n",
       "<tr><th>       </th><th>id                </th><th>precinct          </th><th>timestamp          </th><th>month             </th><th>week              </th><th>day              </th><th>weekday          </th><th>hour              </th><th>total_number_of_crashes  </th><th>did_crash_happen   </th></tr>\n",
       "</thead>\n",
       "<tbody>\n",
       "<tr><td>type   </td><td>int               </td><td>int               </td><td>time               </td><td>int               </td><td>int               </td><td>int              </td><td>int              </td><td>int               </td><td>int                      </td><td>int                </td></tr>\n",
       "<tr><td>mins   </td><td>0.0               </td><td>1.0               </td><td>1341100800000.0    </td><td>1.0               </td><td>1.0               </td><td>1.0              </td><td>0.0              </td><td>0.0               </td><td>0.0                      </td><td>0.0                </td></tr>\n",
       "<tr><td>mean   </td><td>2555822.0         </td><td>63.324675324675326</td><td>1460592000000.0022 </td><td>6.669835053099353 </td><td>27.1789862167658  </td><td>15.712389847104  </td><td>3.001039391428789</td><td>11.499826768095238</td><td>0.2806855718658087       </td><td>0.22581067347204276</td></tr>\n",
       "<tr><td>maxs   </td><td>5111644.0         </td><td>123.0             </td><td>1580083200000.0    </td><td>12.0              </td><td>53.0              </td><td>31.0             </td><td>6.0              </td><td>23.0              </td><td>22.0                     </td><td>1.0                </td></tr>\n",
       "<tr><td>sigma  </td><td>1475604.9527134625</td><td>35.883089840891834</td><td>68989322456.69958  </td><td>3.4693410755976597</td><td>15.148650229202207</td><td>8.793588994562475</td><td>2.000470609143673</td><td>6.922278987315548 </td><td>0.5796143631697092       </td><td>0.4181151126406869 </td></tr>\n",
       "<tr><td>zeros  </td><td>1                 </td><td>0                 </td><td>0                  </td><td>0                 </td><td>0                 </td><td>0                </td><td>730037           </td><td>213059            </td><td>3957381                  </td><td>3957381            </td></tr>\n",
       "<tr><td>missing</td><td>0                 </td><td>0                 </td><td>0                  </td><td>0                 </td><td>0                 </td><td>0                </td><td>0                </td><td>0                 </td><td>0                        </td><td>0                  </td></tr>\n",
       "<tr><td>0      </td><td>0.0               </td><td>1.0               </td><td>2012-07-01 00:00:00</td><td>7.0               </td><td>26.0              </td><td>1.0              </td><td>6.0              </td><td>0.0               </td><td>0.0                      </td><td>0.0                </td></tr>\n",
       "<tr><td>1      </td><td>1.0               </td><td>1.0               </td><td>2012-07-01 01:00:00</td><td>7.0               </td><td>26.0              </td><td>1.0              </td><td>6.0              </td><td>1.0               </td><td>0.0                      </td><td>0.0                </td></tr>\n",
       "<tr><td>2      </td><td>2.0               </td><td>1.0               </td><td>2012-07-01 02:00:00</td><td>7.0               </td><td>26.0              </td><td>1.0              </td><td>6.0              </td><td>2.0               </td><td>0.0                      </td><td>0.0                </td></tr>\n",
       "<tr><td>3      </td><td>3.0               </td><td>1.0               </td><td>2012-07-01 03:00:00</td><td>7.0               </td><td>26.0              </td><td>1.0              </td><td>6.0              </td><td>3.0               </td><td>0.0                      </td><td>0.0                </td></tr>\n",
       "<tr><td>4      </td><td>4.0               </td><td>1.0               </td><td>2012-07-01 04:00:00</td><td>7.0               </td><td>26.0              </td><td>1.0              </td><td>6.0              </td><td>4.0               </td><td>0.0                      </td><td>0.0                </td></tr>\n",
       "<tr><td>5      </td><td>5.0               </td><td>1.0               </td><td>2012-07-01 05:00:00</td><td>7.0               </td><td>26.0              </td><td>1.0              </td><td>6.0              </td><td>5.0               </td><td>0.0                      </td><td>0.0                </td></tr>\n",
       "<tr><td>6      </td><td>6.0               </td><td>1.0               </td><td>2012-07-01 06:00:00</td><td>7.0               </td><td>26.0              </td><td>1.0              </td><td>6.0              </td><td>6.0               </td><td>0.0                      </td><td>0.0                </td></tr>\n",
       "<tr><td>7      </td><td>7.0               </td><td>1.0               </td><td>2012-07-01 07:00:00</td><td>7.0               </td><td>26.0              </td><td>1.0              </td><td>6.0              </td><td>7.0               </td><td>0.0                      </td><td>0.0                </td></tr>\n",
       "<tr><td>8      </td><td>8.0               </td><td>1.0               </td><td>2012-07-01 08:00:00</td><td>7.0               </td><td>26.0              </td><td>1.0              </td><td>6.0              </td><td>8.0               </td><td>0.0                      </td><td>0.0                </td></tr>\n",
       "<tr><td>9      </td><td>9.0               </td><td>1.0               </td><td>2012-07-01 09:00:00</td><td>7.0               </td><td>26.0              </td><td>1.0              </td><td>6.0              </td><td>9.0               </td><td>0.0                      </td><td>0.0                </td></tr>\n",
       "</tbody>\n",
       "</table>"
      ]
     },
     "metadata": {},
     "output_type": "display_data"
    }
   ],
   "source": [
    "df.describe(chunk_summary=True)"
   ]
  },
  {
   "cell_type": "code",
   "execution_count": 5,
   "metadata": {},
   "outputs": [],
   "source": [
    "df['precinct'] = df['precinct'].asfactor()"
   ]
  },
  {
   "cell_type": "code",
   "execution_count": 6,
   "metadata": {},
   "outputs": [],
   "source": [
    "#try month, week, day, weekday, hour as factors too (categorical)\n",
    "df['month'] = df['month'].asfactor()\n",
    "df['week'] = df['week'].asfactor()\n",
    "df['day'] = df['day'].asfactor()\n",
    "df['weekday'] = df['weekday'].asfactor()\n",
    "df['hour'] = df['hour'].asfactor()"
   ]
  },
  {
   "cell_type": "code",
   "execution_count": 7,
   "metadata": {},
   "outputs": [
    {
     "name": "stdout",
     "output_type": "stream",
     "text": [
      "Rows:5111645\n",
      "Cols:10\n",
      "\n",
      "\n"
     ]
    },
    {
     "data": {
      "text/html": [
       "<table>\n",
       "<thead>\n",
       "<tr><th>       </th><th>id                </th><th>precinct  </th><th>timestamp          </th><th>month  </th><th>week  </th><th>day  </th><th>weekday  </th><th>hour  </th><th>total_number_of_crashes  </th><th>did_crash_happen  </th></tr>\n",
       "</thead>\n",
       "<tbody>\n",
       "<tr><td>type   </td><td>int               </td><td>enum      </td><td>time               </td><td>enum   </td><td>enum  </td><td>enum </td><td>enum     </td><td>enum  </td><td>int                      </td><td>enum              </td></tr>\n",
       "<tr><td>mins   </td><td>0.0               </td><td>          </td><td>1341100800000.0    </td><td>       </td><td>      </td><td>     </td><td>         </td><td>      </td><td>0.0                      </td><td>                  </td></tr>\n",
       "<tr><td>mean   </td><td>2555822.0         </td><td>          </td><td>1460592000000.0022 </td><td>       </td><td>      </td><td>     </td><td>         </td><td>      </td><td>0.2806855718658087       </td><td>                  </td></tr>\n",
       "<tr><td>maxs   </td><td>5111644.0         </td><td>          </td><td>1580083200000.0    </td><td>       </td><td>      </td><td>     </td><td>         </td><td>      </td><td>22.0                     </td><td>                  </td></tr>\n",
       "<tr><td>sigma  </td><td>1475604.9527134625</td><td>          </td><td>68989322456.69958  </td><td>       </td><td>      </td><td>     </td><td>         </td><td>      </td><td>0.5796143631697092       </td><td>                  </td></tr>\n",
       "<tr><td>zeros  </td><td>1                 </td><td>          </td><td>0                  </td><td>       </td><td>      </td><td>     </td><td>         </td><td>      </td><td>3957381                  </td><td>                  </td></tr>\n",
       "<tr><td>missing</td><td>0                 </td><td>0         </td><td>0                  </td><td>0      </td><td>0     </td><td>0    </td><td>0        </td><td>0     </td><td>0                        </td><td>0                 </td></tr>\n",
       "<tr><td>0      </td><td>0.0               </td><td>1         </td><td>2012-07-01 00:00:00</td><td>7      </td><td>26    </td><td>1    </td><td>6        </td><td>0     </td><td>0.0                      </td><td>0                 </td></tr>\n",
       "<tr><td>1      </td><td>1.0               </td><td>1         </td><td>2012-07-01 01:00:00</td><td>7      </td><td>26    </td><td>1    </td><td>6        </td><td>1     </td><td>0.0                      </td><td>0                 </td></tr>\n",
       "<tr><td>2      </td><td>2.0               </td><td>1         </td><td>2012-07-01 02:00:00</td><td>7      </td><td>26    </td><td>1    </td><td>6        </td><td>2     </td><td>0.0                      </td><td>0                 </td></tr>\n",
       "<tr><td>3      </td><td>3.0               </td><td>1         </td><td>2012-07-01 03:00:00</td><td>7      </td><td>26    </td><td>1    </td><td>6        </td><td>3     </td><td>0.0                      </td><td>0                 </td></tr>\n",
       "<tr><td>4      </td><td>4.0               </td><td>1         </td><td>2012-07-01 04:00:00</td><td>7      </td><td>26    </td><td>1    </td><td>6        </td><td>4     </td><td>0.0                      </td><td>0                 </td></tr>\n",
       "<tr><td>5      </td><td>5.0               </td><td>1         </td><td>2012-07-01 05:00:00</td><td>7      </td><td>26    </td><td>1    </td><td>6        </td><td>5     </td><td>0.0                      </td><td>0                 </td></tr>\n",
       "<tr><td>6      </td><td>6.0               </td><td>1         </td><td>2012-07-01 06:00:00</td><td>7      </td><td>26    </td><td>1    </td><td>6        </td><td>6     </td><td>0.0                      </td><td>0                 </td></tr>\n",
       "<tr><td>7      </td><td>7.0               </td><td>1         </td><td>2012-07-01 07:00:00</td><td>7      </td><td>26    </td><td>1    </td><td>6        </td><td>7     </td><td>0.0                      </td><td>0                 </td></tr>\n",
       "<tr><td>8      </td><td>8.0               </td><td>1         </td><td>2012-07-01 08:00:00</td><td>7      </td><td>26    </td><td>1    </td><td>6        </td><td>8     </td><td>0.0                      </td><td>0                 </td></tr>\n",
       "<tr><td>9      </td><td>9.0               </td><td>1         </td><td>2012-07-01 09:00:00</td><td>7      </td><td>26    </td><td>1    </td><td>6        </td><td>9     </td><td>0.0                      </td><td>0                 </td></tr>\n",
       "</tbody>\n",
       "</table>"
      ]
     },
     "metadata": {},
     "output_type": "display_data"
    }
   ],
   "source": [
    "df['did_crash_happen'] = df['did_crash_happen'].asfactor()\n",
    "df.describe()"
   ]
  },
  {
   "cell_type": "code",
   "execution_count": 8,
   "metadata": {},
   "outputs": [
    {
     "data": {
      "text/plain": [
       "'did_crash_happen'"
      ]
     },
     "execution_count": 8,
     "metadata": {},
     "output_type": "execute_result"
    }
   ],
   "source": [
    "#set predictor column\n",
    "y = 'did_crash_happen'\n",
    "y"
   ]
  },
  {
   "cell_type": "code",
   "execution_count": 9,
   "metadata": {},
   "outputs": [
    {
     "data": {
      "text/plain": [
       "['precinct', 'month', 'week', 'day', 'weekday', 'hour']"
      ]
     },
     "execution_count": 9,
     "metadata": {},
     "output_type": "execute_result"
    }
   ],
   "source": [
    "#remove id, timestamp, total_number_of_crashes, and did_crash_happen columns\n",
    "x = df.columns\n",
    "x.remove('id')\n",
    "x.remove('timestamp')\n",
    "x.remove('total_number_of_crashes')\n",
    "x.remove('did_crash_happen')\n",
    "x"
   ]
  },
  {
   "cell_type": "code",
   "execution_count": 10,
   "metadata": {},
   "outputs": [],
   "source": [
    "splits = df.split_frame(ratios = [0.15, 0.15, 0.35], seed = 1)\n",
    "df_validate = splits[0]\n",
    "df_test = splits[1]\n",
    "df_train_1 = splits[2]\n",
    "df_train_2 = splits[3]"
   ]
  },
  {
   "cell_type": "code",
   "execution_count": 11,
   "metadata": {},
   "outputs": [],
   "source": [
    "splits_regular = df.split_frame(ratios = [0.25, 0.25])\n",
    "df_validate_regular = splits_regular[0]\n",
    "df_test_regular = splits_regular[1]\n",
    "df_train_regular = splits_regular[2]\n"
   ]
  },
  {
   "cell_type": "code",
   "execution_count": null,
   "metadata": {},
   "outputs": [],
   "source": [
    "len(df_train_regular)"
   ]
  },
  {
   "cell_type": "code",
   "execution_count": null,
   "metadata": {},
   "outputs": [],
   "source": [
    "#with cross validation of 5 \n",
    "aml = H2OAutoML(max_models = 10, seed = 1, nfolds=5, balance_classes=True, stopping_metric='AUCPR', sort_metric='AUCPR')\n",
    "aml.train(x = x, y = y, \\\n",
    "          training_frame = df_train_1, leaderboard_frame = df_test\n",
    "         )"
   ]
  },
  {
   "cell_type": "code",
   "execution_count": null,
   "metadata": {},
   "outputs": [],
   "source": [
    "#with cross validation of 5 \n",
    "aml = H2OAutoML(max_models = 10, seed = 1, nfolds=5, balance_classes=True, stopping_metric='AUCPR', sort_metric='AUCPR')\n",
    "aml.train(x = x, y = y, \\\n",
    "          training_frame = df_train_regular, leaderboard_frame = df_test_regular\n",
    "         )"
   ]
  },
  {
   "cell_type": "code",
   "execution_count": null,
   "metadata": {},
   "outputs": [],
   "source": [
    "#with cross validation frame\n",
    "aml = H2OAutoML(max_models = 10, seed = 1, balance_classes=True, stopping_metric='AUCPR', sort_metric='AUCPR')\n",
    "aml.train(x = x, y = y, \\\n",
    "          training_frame = df_train_regular, leaderboard_frame = df_test_regular, validation_frame = df_validate_regular\n",
    "         )"
   ]
  },
  {
   "cell_type": "code",
   "execution_count": 13,
   "metadata": {},
   "outputs": [
    {
     "name": "stdout",
     "output_type": "stream",
     "text": [
      "AutoML progress: |\n",
      "16:38:20.728: User specified a validation frame with cross-validation still enabled. Please note that the models will still be validated using cross-validation only, the validation frame will be used to provide purely informative validation metrics on the trained models.\n",
      "16:38:20.729: AutoML: XGBoost is not available; skipping it.\n",
      "\n",
      "███████████████████████████████\n",
      "16:55:59.114: DRF_1_AutoML_20200211_163820 [DRF def_1] failed: java.lang.OutOfMemoryError: GC overhead limit exceeded\n",
      "\n",
      "██████████Failed polling AutoML progress log: HTTP 500 Server Error:\n",
      "'<html>\\n<head>\\n<meta http-equiv=\"Content-Type\" content=\"text/html;charset=ISO-8859-1\"/>\\n<title>Error 500 Server Error</title>\\n</head>\\n<body>\\n<h2>HTTP ERROR: 500</h2>\\n<p>Problem accessing /3/PostFile. Reason:\\n<pre>    Server Error</pre></p>\\n\\n                                                \\n                                                \\n                                                \\n                                                \\n                                                \\n                                                \\n                                                \\n                                                \\n                                                \\n                                                \\n                                                \\n                                                \\n                                                \\n                                                \\n                                                \\n                                                \\n                                                \\n                                                \\n                                                \\n                                                \\n</body>\\n</html>\\n'\n",
      "Failed polling AutoML progress log: HTTP 500 Server Error:\n",
      "'<html>\\n<head>\\n<meta http-equiv=\"Content-Type\" content=\"text/html;charset=ISO-8859-1\"/>\\n<title>Error 500 Server Error</title>\\n</head>\\n<body>\\n<h2>HTTP ERROR: 500</h2>\\n<p>Problem accessing /3/PostFile. Reason:\\n<pre>    Server Error</pre></p>\\n\\n                                                \\n                                                \\n                                                \\n                                                \\n                                                \\n                                                \\n                                                \\n                                                \\n                                                \\n                                                \\n                                                \\n                                                \\n                                                \\n                                                \\n                                                \\n                                                \\n                                                \\n                                                \\n                                                \\n                                                \\n</body>\\n</html>\\n'\n",
      "Failed polling AutoML progress log: HTTP 500 Server Error:\n",
      "'<html>\\n<head>\\n<meta http-equiv=\"Content-Type\" content=\"text/html;charset=ISO-8859-1\"/>\\n<title>Error 500 Server Error</title>\\n</head>\\n<body>\\n<h2>HTTP ERROR: 500</h2>\\n<p>Problem accessing /3/PostFile. Reason:\\n<pre>    Server Error</pre></p>\\n\\n                                                \\n                                                \\n                                                \\n                                                \\n                                                \\n                                                \\n                                                \\n                                                \\n                                                \\n                                                \\n                                                \\n                                                \\n                                                \\n                                                \\n                                                \\n                                                \\n                                                \\n                                                \\n                                                \\n                                                \\n</body>\\n</html>\\n'\n",
      "Failed polling AutoML progress log: HTTP 500 Server Error:\n",
      "'<html>\\n<head>\\n<meta http-equiv=\"Content-Type\" content=\"text/html;charset=ISO-8859-1\"/>\\n<title>Error 500 Server Error</title>\\n</head>\\n<body>\\n<h2>HTTP ERROR: 500</h2>\\n<p>Problem accessing /3/PostFile. Reason:\\n<pre>    Server Error</pre></p>\\n\\n                                                \\n                                                \\n                                                \\n                                                \\n                                                \\n                                                \\n                                                \\n                                                \\n                                                \\n                                                \\n                                                \\n                                                \\n                                                \\n                                                \\n                                                \\n                                                \\n                                                \\n                                                \\n                                                \\n                                                \\n</body>\\n</html>\\n'\n",
      "Failed polling AutoML progress log: HTTP 500 Server Error:\n",
      "'<html>\\n<head>\\n<meta http-equiv=\"Content-Type\" content=\"text/html;charset=ISO-8859-1\"/>\\n<title>Error 500 Server Error</title>\\n</head>\\n<body>\\n<h2>HTTP ERROR: 500</h2>\\n<p>Problem accessing /3/PostFile. Reason:\\n<pre>    Server Error</pre></p>\\n\\n                                                \\n                                                \\n                                                \\n                                                \\n                                                \\n                                                \\n                                                \\n                                                \\n                                                \\n                                                \\n                                                \\n                                                \\n                                                \\n                                                \\n                                                \\n                                                \\n                                                \\n                                                \\n                                                \\n                                                \\n</body>\\n</html>\\n'\n",
      "Failed polling AutoML progress log: HTTP 500 Server Error:\n"
     ]
    },
    {
     "name": "stdout",
     "output_type": "stream",
     "text": [
      "'<html>\\n<head>\\n<meta http-equiv=\"Content-Type\" content=\"text/html;charset=ISO-8859-1\"/>\\n<title>Error 500 Server Error</title>\\n</head>\\n<body>\\n<h2>HTTP ERROR: 500</h2>\\n<p>Problem accessing /3/PostFile. Reason:\\n<pre>    Server Error</pre></p>\\n\\n                                                \\n                                                \\n                                                \\n                                                \\n                                                \\n                                                \\n                                                \\n                                                \\n                                                \\n                                                \\n                                                \\n                                                \\n                                                \\n                                                \\n                                                \\n                                                \\n                                                \\n                                                \\n                                                \\n                                                \\n</body>\\n</html>\\n'\n",
      "Failed polling AutoML progress log: HTTP 500 Server Error:\n",
      "'<html>\\n<head>\\n<meta http-equiv=\"Content-Type\" content=\"text/html;charset=ISO-8859-1\"/>\\n<title>Error 500 Server Error</title>\\n</head>\\n<body>\\n<h2>HTTP ERROR: 500</h2>\\n<p>Problem accessing /3/PostFile. Reason:\\n<pre>    Server Error</pre></p>\\n\\n                                                \\n                                                \\n                                                \\n                                                \\n                                                \\n                                                \\n                                                \\n                                                \\n                                                \\n                                                \\n                                                \\n                                                \\n                                                \\n                                                \\n                                                \\n                                                \\n                                                \\n                                                \\n                                                \\n                                                \\n</body>\\n</html>\\n'\n",
      "Failed polling AutoML progress log: HTTP 500 Server Error:\n",
      "'<html>\\n<head>\\n<meta http-equiv=\"Content-Type\" content=\"text/html;charset=ISO-8859-1\"/>\\n<title>Error 500 Server Error</title>\\n</head>\\n<body>\\n<h2>HTTP ERROR: 500</h2>\\n<p>Problem accessing /3/PostFile. Reason:\\n<pre>    Server Error</pre></p>\\n\\n                                                \\n                                                \\n                                                \\n                                                \\n                                                \\n                                                \\n                                                \\n                                                \\n                                                \\n                                                \\n                                                \\n                                                \\n                                                \\n                                                \\n                                                \\n                                                \\n                                                \\n                                                \\n                                                \\n                                                \\n</body>\\n</html>\\n'\n",
      "Failed polling AutoML progress log: HTTP 500 Server Error:\n",
      "'<html>\\n<head>\\n<meta http-equiv=\"Content-Type\" content=\"text/html;charset=ISO-8859-1\"/>\\n<title>Error 500 Server Error</title>\\n</head>\\n<body>\\n<h2>HTTP ERROR: 500</h2>\\n<p>Problem accessing /3/PostFile. Reason:\\n<pre>    Server Error</pre></p>\\n\\n                                                \\n                                                \\n                                                \\n                                                \\n                                                \\n                                                \\n                                                \\n                                                \\n                                                \\n                                                \\n                                                \\n                                                \\n                                                \\n                                                \\n                                                \\n                                                \\n                                                \\n                                                \\n                                                \\n                                                \\n</body>\\n</html>\\n'\n",
      "Failed polling AutoML progress log: HTTP 500 Server Error:\n",
      "'<html>\\n<head>\\n<meta http-equiv=\"Content-Type\" content=\"text/html;charset=ISO-8859-1\"/>\\n<title>Error 500 Server Error</title>\\n</head>\\n<body>\\n<h2>HTTP ERROR: 500</h2>\\n<p>Problem accessing /3/PostFile. Reason:\\n<pre>    Server Error</pre></p>\\n\\n                                                \\n                                                \\n                                                \\n                                                \\n                                                \\n                                                \\n                                                \\n                                                \\n                                                \\n                                                \\n                                                \\n                                                \\n                                                \\n                                                \\n                                                \\n                                                \\n                                                \\n                                                \\n                                                \\n                                                \\n</body>\\n</html>\\n'\n",
      "█Failed polling AutoML progress log: HTTP 500 Server Error:\n",
      "'<html>\\n<head>\\n<meta http-equiv=\"Content-Type\" content=\"text/html;charset=ISO-8859-1\"/>\\n<title>Error 500 Server Error</title>\\n</head>\\n<body>\\n<h2>HTTP ERROR: 500</h2>\\n<p>Problem accessing /3/PostFile. Reason:\\n<pre>    Server Error</pre></p>\\n\\n                                                \\n                                                \\n                                                \\n                                                \\n                                                \\n                                                \\n                                                \\n                                                \\n                                                \\n                                                \\n                                                \\n                                                \\n                                                \\n                                                \\n                                                \\n                                                \\n                                                \\n                                                \\n                                                \\n                                                \\n</body>\\n</html>\\n'\n",
      "Failed polling AutoML progress log: HTTP 500 Server Error:\n"
     ]
    },
    {
     "name": "stdout",
     "output_type": "stream",
     "text": [
      "'<html>\\n<head>\\n<meta http-equiv=\"Content-Type\" content=\"text/html;charset=ISO-8859-1\"/>\\n<title>Error 500 Server Error</title>\\n</head>\\n<body>\\n<h2>HTTP ERROR: 500</h2>\\n<p>Problem accessing /3/PostFile. Reason:\\n<pre>    Server Error</pre></p>\\n\\n                                                \\n                                                \\n                                                \\n                                                \\n                                                \\n                                                \\n                                                \\n                                                \\n                                                \\n                                                \\n                                                \\n                                                \\n                                                \\n                                                \\n                                                \\n                                                \\n                                                \\n                                                \\n                                                \\n                                                \\n</body>\\n</html>\\n'\n",
      "Failed polling AutoML progress log: HTTP 500 Server Error:\n",
      "'<html>\\n<head>\\n<meta http-equiv=\"Content-Type\" content=\"text/html;charset=ISO-8859-1\"/>\\n<title>Error 500 Server Error</title>\\n</head>\\n<body>\\n<h2>HTTP ERROR: 500</h2>\\n<p>Problem accessing /3/PostFile. Reason:\\n<pre>    Server Error</pre></p>\\n\\n                                                \\n                                                \\n                                                \\n                                                \\n                                                \\n                                                \\n                                                \\n                                                \\n                                                \\n                                                \\n                                                \\n                                                \\n                                                \\n                                                \\n                                                \\n                                                \\n                                                \\n                                                \\n                                                \\n                                                \\n</body>\\n</html>\\n'\n",
      "Failed polling AutoML progress log: HTTP 500 Server Error:\n",
      "'<html>\\n<head>\\n<meta http-equiv=\"Content-Type\" content=\"text/html;charset=ISO-8859-1\"/>\\n<title>Error 500 Server Error</title>\\n</head>\\n<body>\\n<h2>HTTP ERROR: 500</h2>\\n<p>Problem accessing /3/PostFile. Reason:\\n<pre>    Server Error</pre></p>\\n\\n                                                \\n                                                \\n                                                \\n                                                \\n                                                \\n                                                \\n                                                \\n                                                \\n                                                \\n                                                \\n                                                \\n                                                \\n                                                \\n                                                \\n                                                \\n                                                \\n                                                \\n                                                \\n                                                \\n                                                \\n</body>\\n</html>\\n'\n",
      "Failed polling AutoML progress log: HTTP 500 Server Error:\n",
      "'<html>\\n<head>\\n<meta http-equiv=\"Content-Type\" content=\"text/html;charset=ISO-8859-1\"/>\\n<title>Error 500 Server Error</title>\\n</head>\\n<body>\\n<h2>HTTP ERROR: 500</h2>\\n<p>Problem accessing /3/PostFile. Reason:\\n<pre>    Server Error</pre></p>\\n\\n                                                \\n                                                \\n                                                \\n                                                \\n                                                \\n                                                \\n                                                \\n                                                \\n                                                \\n                                                \\n                                                \\n                                                \\n                                                \\n                                                \\n                                                \\n                                                \\n                                                \\n                                                \\n                                                \\n                                                \\n</body>\\n</html>\\n'\n",
      "Failed polling AutoML progress log: HTTP 500 Server Error:\n",
      "'<html>\\n<head>\\n<meta http-equiv=\"Content-Type\" content=\"text/html;charset=ISO-8859-1\"/>\\n<title>Error 500 Server Error</title>\\n</head>\\n<body>\\n<h2>HTTP ERROR: 500</h2>\\n<p>Problem accessing /3/PostFile. Reason:\\n<pre>    Server Error</pre></p>\\n\\n                                                \\n                                                \\n                                                \\n                                                \\n                                                \\n                                                \\n                                                \\n                                                \\n                                                \\n                                                \\n                                                \\n                                                \\n                                                \\n                                                \\n                                                \\n                                                \\n                                                \\n                                                \\n                                                \\n                                                \\n</body>\\n</html>\\n'\n",
      "Failed polling AutoML progress log: HTTP 500 Server Error:\n",
      "'<html>\\n<head>\\n<meta http-equiv=\"Content-Type\" content=\"text/html;charset=ISO-8859-1\"/>\\n<title>Error 500 Server Error</title>\\n</head>\\n<body>\\n<h2>HTTP ERROR: 500</h2>\\n<p>Problem accessing /3/PostFile. Reason:\\n<pre>    Server Error</pre></p>\\n\\n                                                \\n                                                \\n                                                \\n                                                \\n                                                \\n                                                \\n                                                \\n                                                \\n                                                \\n                                                \\n                                                \\n                                                \\n                                                \\n                                                \\n                                                \\n                                                \\n                                                \\n                                                \\n                                                \\n                                                \\n</body>\\n</html>\\n'\n",
      "Failed polling AutoML progress log: HTTP 500 Server Error:\n"
     ]
    },
    {
     "name": "stdout",
     "output_type": "stream",
     "text": [
      "'<html>\\n<head>\\n<meta http-equiv=\"Content-Type\" content=\"text/html;charset=ISO-8859-1\"/>\\n<title>Error 500 Server Error</title>\\n</head>\\n<body>\\n<h2>HTTP ERROR: 500</h2>\\n<p>Problem accessing /3/PostFile. Reason:\\n<pre>    Server Error</pre></p>\\n\\n                                                \\n                                                \\n                                                \\n                                                \\n                                                \\n                                                \\n                                                \\n                                                \\n                                                \\n                                                \\n                                                \\n                                                \\n                                                \\n                                                \\n                                                \\n                                                \\n                                                \\n                                                \\n                                                \\n                                                \\n</body>\\n</html>\\n'\n",
      "Failed polling AutoML progress log: HTTP 500 Server Error:\n",
      "'<html>\\n<head>\\n<meta http-equiv=\"Content-Type\" content=\"text/html;charset=ISO-8859-1\"/>\\n<title>Error 500 Server Error</title>\\n</head>\\n<body>\\n<h2>HTTP ERROR: 500</h2>\\n<p>Problem accessing /3/PostFile. Reason:\\n<pre>    Server Error</pre></p>\\n\\n                                                \\n                                                \\n                                                \\n                                                \\n                                                \\n                                                \\n                                                \\n                                                \\n                                                \\n                                                \\n                                                \\n                                                \\n                                                \\n                                                \\n                                                \\n                                                \\n                                                \\n                                                \\n                                                \\n                                                \\n</body>\\n</html>\\n'\n",
      "Failed polling AutoML progress log: HTTP 500 Server Error:\n",
      "'<html>\\n<head>\\n<meta http-equiv=\"Content-Type\" content=\"text/html;charset=ISO-8859-1\"/>\\n<title>Error 500 Server Error</title>\\n</head>\\n<body>\\n<h2>HTTP ERROR: 500</h2>\\n<p>Problem accessing /3/PostFile. Reason:\\n<pre>    Server Error</pre></p>\\n\\n                                                \\n                                                \\n                                                \\n                                                \\n                                                \\n                                                \\n                                                \\n                                                \\n                                                \\n                                                \\n                                                \\n                                                \\n                                                \\n                                                \\n                                                \\n                                                \\n                                                \\n                                                \\n                                                \\n                                                \\n</body>\\n</html>\\n'\n",
      "Failed polling AutoML progress log: HTTP 500 Server Error:\n",
      "'<html>\\n<head>\\n<meta http-equiv=\"Content-Type\" content=\"text/html;charset=ISO-8859-1\"/>\\n<title>Error 500 Server Error</title>\\n</head>\\n<body>\\n<h2>HTTP ERROR: 500</h2>\\n<p>Problem accessing /3/PostFile. Reason:\\n<pre>    Server Error</pre></p>\\n\\n                                                \\n                                                \\n                                                \\n                                                \\n                                                \\n                                                \\n                                                \\n                                                \\n                                                \\n                                                \\n                                                \\n                                                \\n                                                \\n                                                \\n                                                \\n                                                \\n                                                \\n                                                \\n                                                \\n                                                \\n</body>\\n</html>\\n'\n",
      "Failed polling AutoML progress log: HTTP 500 java.lang.OutOfMemoryError: GC overhead limit exceeded:\n",
      "'<html>\\n<head>\\n<meta http-equiv=\"Content-Type\" content=\"text/html;charset=ISO-8859-1\"/>\\n<title>Error 500 java.lang.OutOfMemoryError: GC overhead limit exceeded\\r\\n</title>\\n</head>\\n<body>\\n<h2>HTTP ERROR: 500</h2>\\n<p>Problem accessing /99/AutoML/AutoML_20200211_163820728@@did_crash_happen. Reason:\\n<pre>    java.lang.OutOfMemoryError: GC overhead limit exceeded\\r\\n</pre></p>\\n\\n                                                \\n                                                \\n                                                \\n                                                \\n                                                \\n                                                \\n                                                \\n                                                \\n                                                \\n                                                \\n                                                \\n                                                \\n                                                \\n                                                \\n                                                \\n                                                \\n                                                \\n                                                \\n                                                \\n                                                \\n</body>\\n</html>\\n'\n",
      "█Failed polling AutoML progress log: HTTP 500 Server Error:\n",
      "'<html>\\n<head>\\n<meta http-equiv=\"Content-Type\" content=\"text/html;charset=ISO-8859-1\"/>\\n<title>Error 500 Server Error</title>\\n</head>\\n<body>\\n<h2>HTTP ERROR: 500</h2>\\n<p>Problem accessing /3/PostFile. Reason:\\n<pre>    Server Error</pre></p>\\n\\n                                                \\n                                                \\n                                                \\n                                                \\n                                                \\n                                                \\n                                                \\n                                                \\n                                                \\n                                                \\n                                                \\n                                                \\n                                                \\n                                                \\n                                                \\n                                                \\n                                                \\n                                                \\n                                                \\n                                                \\n</body>\\n</html>\\n'\n",
      "Failed polling AutoML progress log: HTTP 500 Server Error:\n"
     ]
    },
    {
     "name": "stdout",
     "output_type": "stream",
     "text": [
      "'<html>\\n<head>\\n<meta http-equiv=\"Content-Type\" content=\"text/html;charset=ISO-8859-1\"/>\\n<title>Error 500 Server Error</title>\\n</head>\\n<body>\\n<h2>HTTP ERROR: 500</h2>\\n<p>Problem accessing /3/PostFile. Reason:\\n<pre>    Server Error</pre></p>\\n\\n                                                \\n                                                \\n                                                \\n                                                \\n                                                \\n                                                \\n                                                \\n                                                \\n                                                \\n                                                \\n                                                \\n                                                \\n                                                \\n                                                \\n                                                \\n                                                \\n                                                \\n                                                \\n                                                \\n                                                \\n</body>\\n</html>\\n'\n",
      "Failed polling AutoML progress log: HTTP 500 Server Error:\n",
      "'<html>\\n<head>\\n<meta http-equiv=\"Content-Type\" content=\"text/html;charset=ISO-8859-1\"/>\\n<title>Error 500 Server Error</title>\\n</head>\\n<body>\\n<h2>HTTP ERROR: 500</h2>\\n<p>Problem accessing /3/PostFile. Reason:\\n<pre>    Server Error</pre></p>\\n\\n                                                \\n                                                \\n                                                \\n                                                \\n                                                \\n                                                \\n                                                \\n                                                \\n                                                \\n                                                \\n                                                \\n                                                \\n                                                \\n                                                \\n                                                \\n                                                \\n                                                \\n                                                \\n                                                \\n                                                \\n</body>\\n</html>\\n'\n",
      "Failed polling AutoML progress log: HTTP 500 Server Error:\n",
      "'<html>\\n<head>\\n<meta http-equiv=\"Content-Type\" content=\"text/html;charset=ISO-8859-1\"/>\\n<title>Error 500 Server Error</title>\\n</head>\\n<body>\\n<h2>HTTP ERROR: 500</h2>\\n<p>Problem accessing /3/PostFile. Reason:\\n<pre>    Server Error</pre></p>\\n\\n                                                \\n                                                \\n                                                \\n                                                \\n                                                \\n                                                \\n                                                \\n                                                \\n                                                \\n                                                \\n                                                \\n                                                \\n                                                \\n                                                \\n                                                \\n                                                \\n                                                \\n                                                \\n                                                \\n                                                \\n</body>\\n</html>\\n'\n",
      "Failed polling AutoML progress log: HTTP 500 Server Error:\n",
      "'<html>\\n<head>\\n<meta http-equiv=\"Content-Type\" content=\"text/html;charset=ISO-8859-1\"/>\\n<title>Error 500 Server Error</title>\\n</head>\\n<body>\\n<h2>HTTP ERROR: 500</h2>\\n<p>Problem accessing /3/PostFile. Reason:\\n<pre>    Server Error</pre></p>\\n\\n                                                \\n                                                \\n                                                \\n                                                \\n                                                \\n                                                \\n                                                \\n                                                \\n                                                \\n                                                \\n                                                \\n                                                \\n                                                \\n                                                \\n                                                \\n                                                \\n                                                \\n                                                \\n                                                \\n                                                \\n</body>\\n</html>\\n'\n",
      "Failed polling AutoML progress log: HTTP 500 Server Error:\n",
      "'<html>\\n<head>\\n<meta http-equiv=\"Content-Type\" content=\"text/html;charset=ISO-8859-1\"/>\\n<title>Error 500 Server Error</title>\\n</head>\\n<body>\\n<h2>HTTP ERROR: 500</h2>\\n<p>Problem accessing /3/PostFile. Reason:\\n<pre>    Server Error</pre></p>\\n\\n                                                \\n                                                \\n                                                \\n                                                \\n                                                \\n                                                \\n                                                \\n                                                \\n                                                \\n                                                \\n                                                \\n                                                \\n                                                \\n                                                \\n                                                \\n                                                \\n                                                \\n                                                \\n                                                \\n                                                \\n</body>\\n</html>\\n'\n",
      "Failed polling AutoML progress log: HTTP 500 Server Error:\n",
      "'<html>\\n<head>\\n<meta http-equiv=\"Content-Type\" content=\"text/html;charset=ISO-8859-1\"/>\\n<title>Error 500 Server Error</title>\\n</head>\\n<body>\\n<h2>HTTP ERROR: 500</h2>\\n<p>Problem accessing /3/PostFile. Reason:\\n<pre>    Server Error</pre></p>\\n\\n                                                \\n                                                \\n                                                \\n                                                \\n                                                \\n                                                \\n                                                \\n                                                \\n                                                \\n                                                \\n                                                \\n                                                \\n                                                \\n                                                \\n                                                \\n                                                \\n                                                \\n                                                \\n                                                \\n                                                \\n</body>\\n</html>\\n'\n",
      "Failed polling AutoML progress log: HTTP 500 Server Error:\n"
     ]
    },
    {
     "name": "stdout",
     "output_type": "stream",
     "text": [
      "'<html>\\n<head>\\n<meta http-equiv=\"Content-Type\" content=\"text/html;charset=ISO-8859-1\"/>\\n<title>Error 500 Server Error</title>\\n</head>\\n<body>\\n<h2>HTTP ERROR: 500</h2>\\n<p>Problem accessing /3/PostFile. Reason:\\n<pre>    Server Error</pre></p>\\n\\n                                                \\n                                                \\n                                                \\n                                                \\n                                                \\n                                                \\n                                                \\n                                                \\n                                                \\n                                                \\n                                                \\n                                                \\n                                                \\n                                                \\n                                                \\n                                                \\n                                                \\n                                                \\n                                                \\n                                                \\n</body>\\n</html>\\n'\n",
      "Failed polling AutoML progress log: HTTP 500 Server Error:\n",
      "'<html>\\n<head>\\n<meta http-equiv=\"Content-Type\" content=\"text/html;charset=ISO-8859-1\"/>\\n<title>Error 500 Server Error</title>\\n</head>\\n<body>\\n<h2>HTTP ERROR: 500</h2>\\n<p>Problem accessing /3/PostFile. Reason:\\n<pre>    Server Error</pre></p>\\n\\n                                                \\n                                                \\n                                                \\n                                                \\n                                                \\n                                                \\n                                                \\n                                                \\n                                                \\n                                                \\n                                                \\n                                                \\n                                                \\n                                                \\n                                                \\n                                                \\n                                                \\n                                                \\n                                                \\n                                                \\n</body>\\n</html>\\n'\n",
      "Failed polling AutoML progress log: HTTP 500 Server Error:\n",
      "'<html>\\n<head>\\n<meta http-equiv=\"Content-Type\" content=\"text/html;charset=ISO-8859-1\"/>\\n<title>Error 500 Server Error</title>\\n</head>\\n<body>\\n<h2>HTTP ERROR: 500</h2>\\n<p>Problem accessing /3/PostFile. Reason:\\n<pre>    Server Error</pre></p>\\n\\n                                                \\n                                                \\n                                                \\n                                                \\n                                                \\n                                                \\n                                                \\n                                                \\n                                                \\n                                                \\n                                                \\n                                                \\n                                                \\n                                                \\n                                                \\n                                                \\n                                                \\n                                                \\n                                                \\n                                                \\n</body>\\n</html>\\n'\n",
      "Failed polling AutoML progress log: HTTP 500 Server Error:\n",
      "'<html>\\n<head>\\n<meta http-equiv=\"Content-Type\" content=\"text/html;charset=ISO-8859-1\"/>\\n<title>Error 500 Server Error</title>\\n</head>\\n<body>\\n<h2>HTTP ERROR: 500</h2>\\n<p>Problem accessing /3/PostFile. Reason:\\n<pre>    Server Error</pre></p>\\n\\n                                                \\n                                                \\n                                                \\n                                                \\n                                                \\n                                                \\n                                                \\n                                                \\n                                                \\n                                                \\n                                                \\n                                                \\n                                                \\n                                                \\n                                                \\n                                                \\n                                                \\n                                                \\n                                                \\n                                                \\n</body>\\n</html>\\n'\n",
      "█Failed polling AutoML progress log: HTTP 500 Server Error:\n",
      "'<html>\\n<head>\\n<meta http-equiv=\"Content-Type\" content=\"text/html;charset=ISO-8859-1\"/>\\n<title>Error 500 Server Error</title>\\n</head>\\n<body>\\n<h2>HTTP ERROR: 500</h2>\\n<p>Problem accessing /3/PostFile. Reason:\\n<pre>    Server Error</pre></p>\\n\\n                                                \\n                                                \\n                                                \\n                                                \\n                                                \\n                                                \\n                                                \\n                                                \\n                                                \\n                                                \\n                                                \\n                                                \\n                                                \\n                                                \\n                                                \\n                                                \\n                                                \\n                                                \\n                                                \\n                                                \\n</body>\\n</html>\\n'\n",
      "Failed polling AutoML progress log: HTTP 500 Server Error:\n",
      "'<html>\\n<head>\\n<meta http-equiv=\"Content-Type\" content=\"text/html;charset=ISO-8859-1\"/>\\n<title>Error 500 Server Error</title>\\n</head>\\n<body>\\n<h2>HTTP ERROR: 500</h2>\\n<p>Problem accessing /3/PostFile. Reason:\\n<pre>    Server Error</pre></p>\\n\\n                                                \\n                                                \\n                                                \\n                                                \\n                                                \\n                                                \\n                                                \\n                                                \\n                                                \\n                                                \\n                                                \\n                                                \\n                                                \\n                                                \\n                                                \\n                                                \\n                                                \\n                                                \\n                                                \\n                                                \\n</body>\\n</html>\\n'\n",
      "Failed polling AutoML progress log: HTTP 500 Server Error:\n"
     ]
    },
    {
     "name": "stdout",
     "output_type": "stream",
     "text": [
      "'<html>\\n<head>\\n<meta http-equiv=\"Content-Type\" content=\"text/html;charset=ISO-8859-1\"/>\\n<title>Error 500 Server Error</title>\\n</head>\\n<body>\\n<h2>HTTP ERROR: 500</h2>\\n<p>Problem accessing /3/PostFile. Reason:\\n<pre>    Server Error</pre></p>\\n\\n                                                \\n                                                \\n                                                \\n                                                \\n                                                \\n                                                \\n                                                \\n                                                \\n                                                \\n                                                \\n                                                \\n                                                \\n                                                \\n                                                \\n                                                \\n                                                \\n                                                \\n                                                \\n                                                \\n                                                \\n</body>\\n</html>\\n'\n",
      "Failed polling AutoML progress log: HTTP 500 Server Error:\n",
      "'<html>\\n<head>\\n<meta http-equiv=\"Content-Type\" content=\"text/html;charset=ISO-8859-1\"/>\\n<title>Error 500 Server Error</title>\\n</head>\\n<body>\\n<h2>HTTP ERROR: 500</h2>\\n<p>Problem accessing /3/PostFile. Reason:\\n<pre>    Server Error</pre></p>\\n\\n                                                \\n                                                \\n                                                \\n                                                \\n                                                \\n                                                \\n                                                \\n                                                \\n                                                \\n                                                \\n                                                \\n                                                \\n                                                \\n                                                \\n                                                \\n                                                \\n                                                \\n                                                \\n                                                \\n                                                \\n</body>\\n</html>\\n'\n",
      "Failed polling AutoML progress log: HTTP 500 Server Error:\n",
      "'<html>\\n<head>\\n<meta http-equiv=\"Content-Type\" content=\"text/html;charset=ISO-8859-1\"/>\\n<title>Error 500 Server Error</title>\\n</head>\\n<body>\\n<h2>HTTP ERROR: 500</h2>\\n<p>Problem accessing /3/PostFile. Reason:\\n<pre>    Server Error</pre></p>\\n\\n                                                \\n                                                \\n                                                \\n                                                \\n                                                \\n                                                \\n                                                \\n                                                \\n                                                \\n                                                \\n                                                \\n                                                \\n                                                \\n                                                \\n                                                \\n                                                \\n                                                \\n                                                \\n                                                \\n                                                \\n</body>\\n</html>\\n'\n",
      "Failed polling AutoML progress log: HTTP 500 Server Error:\n",
      "'<html>\\n<head>\\n<meta http-equiv=\"Content-Type\" content=\"text/html;charset=ISO-8859-1\"/>\\n<title>Error 500 Server Error</title>\\n</head>\\n<body>\\n<h2>HTTP ERROR: 500</h2>\\n<p>Problem accessing /3/PostFile. Reason:\\n<pre>    Server Error</pre></p>\\n\\n                                                \\n                                                \\n                                                \\n                                                \\n                                                \\n                                                \\n                                                \\n                                                \\n                                                \\n                                                \\n                                                \\n                                                \\n                                                \\n                                                \\n                                                \\n                                                \\n                                                \\n                                                \\n                                                \\n                                                \\n</body>\\n</html>\\n'\n",
      "Failed polling AutoML progress log: HTTP 500 Server Error:\n",
      "'<html>\\n<head>\\n<meta http-equiv=\"Content-Type\" content=\"text/html;charset=ISO-8859-1\"/>\\n<title>Error 500 Server Error</title>\\n</head>\\n<body>\\n<h2>HTTP ERROR: 500</h2>\\n<p>Problem accessing /3/PostFile. Reason:\\n<pre>    Server Error</pre></p>\\n\\n                                                \\n                                                \\n                                                \\n                                                \\n                                                \\n                                                \\n                                                \\n                                                \\n                                                \\n                                                \\n                                                \\n                                                \\n                                                \\n                                                \\n                                                \\n                                                \\n                                                \\n                                                \\n                                                \\n                                                \\n</body>\\n</html>\\n'\n",
      "Failed polling AutoML progress log: HTTP 500 Server Error:\n",
      "'<html>\\n<head>\\n<meta http-equiv=\"Content-Type\" content=\"text/html;charset=ISO-8859-1\"/>\\n<title>Error 500 Server Error</title>\\n</head>\\n<body>\\n<h2>HTTP ERROR: 500</h2>\\n<p>Problem accessing /3/PostFile. Reason:\\n<pre>    Server Error</pre></p>\\n\\n                                                \\n                                                \\n                                                \\n                                                \\n                                                \\n                                                \\n                                                \\n                                                \\n                                                \\n                                                \\n                                                \\n                                                \\n                                                \\n                                                \\n                                                \\n                                                \\n                                                \\n                                                \\n                                                \\n                                                \\n</body>\\n</html>\\n'\n",
      "Failed polling AutoML progress log: HTTP 500 Server Error:\n"
     ]
    },
    {
     "name": "stdout",
     "output_type": "stream",
     "text": [
      "'<html>\\n<head>\\n<meta http-equiv=\"Content-Type\" content=\"text/html;charset=ISO-8859-1\"/>\\n<title>Error 500 Server Error</title>\\n</head>\\n<body>\\n<h2>HTTP ERROR: 500</h2>\\n<p>Problem accessing /3/PostFile. Reason:\\n<pre>    Server Error</pre></p>\\n\\n                                                \\n                                                \\n                                                \\n                                                \\n                                                \\n                                                \\n                                                \\n                                                \\n                                                \\n                                                \\n                                                \\n                                                \\n                                                \\n                                                \\n                                                \\n                                                \\n                                                \\n                                                \\n                                                \\n                                                \\n</body>\\n</html>\\n'\n",
      "Failed polling AutoML progress log: HTTP 500 Server Error:\n",
      "'<html>\\n<head>\\n<meta http-equiv=\"Content-Type\" content=\"text/html;charset=ISO-8859-1\"/>\\n<title>Error 500 Server Error</title>\\n</head>\\n<body>\\n<h2>HTTP ERROR: 500</h2>\\n<p>Problem accessing /3/PostFile. Reason:\\n<pre>    Server Error</pre></p>\\n\\n                                                \\n                                                \\n                                                \\n                                                \\n                                                \\n                                                \\n                                                \\n                                                \\n                                                \\n                                                \\n                                                \\n                                                \\n                                                \\n                                                \\n                                                \\n                                                \\n                                                \\n                                                \\n                                                \\n                                                \\n</body>\\n</html>\\n'\n",
      "Failed polling AutoML progress log: HTTP 500 Server Error:\n",
      "'<html>\\n<head>\\n<meta http-equiv=\"Content-Type\" content=\"text/html;charset=ISO-8859-1\"/>\\n<title>Error 500 Server Error</title>\\n</head>\\n<body>\\n<h2>HTTP ERROR: 500</h2>\\n<p>Problem accessing /3/PostFile. Reason:\\n<pre>    Server Error</pre></p>\\n\\n                                                \\n                                                \\n                                                \\n                                                \\n                                                \\n                                                \\n                                                \\n                                                \\n                                                \\n                                                \\n                                                \\n                                                \\n                                                \\n                                                \\n                                                \\n                                                \\n                                                \\n                                                \\n                                                \\n                                                \\n</body>\\n</html>\\n'\n",
      "Failed polling AutoML progress log: HTTP 500 Server Error:\n",
      "'<html>\\n<head>\\n<meta http-equiv=\"Content-Type\" content=\"text/html;charset=ISO-8859-1\"/>\\n<title>Error 500 Server Error</title>\\n</head>\\n<body>\\n<h2>HTTP ERROR: 500</h2>\\n<p>Problem accessing /3/PostFile. Reason:\\n<pre>    Server Error</pre></p>\\n\\n                                                \\n                                                \\n                                                \\n                                                \\n                                                \\n                                                \\n                                                \\n                                                \\n                                                \\n                                                \\n                                                \\n                                                \\n                                                \\n                                                \\n                                                \\n                                                \\n                                                \\n                                                \\n                                                \\n                                                \\n</body>\\n</html>\\n'\n",
      "█Failed polling AutoML progress log: HTTP 500 Server Error:\n",
      "'<html>\\n<head>\\n<meta http-equiv=\"Content-Type\" content=\"text/html;charset=ISO-8859-1\"/>\\n<title>Error 500 Server Error</title>\\n</head>\\n<body>\\n<h2>HTTP ERROR: 500</h2>\\n<p>Problem accessing /3/PostFile. Reason:\\n<pre>    Server Error</pre></p>\\n\\n                                                \\n                                                \\n                                                \\n                                                \\n                                                \\n                                                \\n                                                \\n                                                \\n                                                \\n                                                \\n                                                \\n                                                \\n                                                \\n                                                \\n                                                \\n                                                \\n                                                \\n                                                \\n                                                \\n                                                \\n</body>\\n</html>\\n'\n",
      "Failed polling AutoML progress log: HTTP 500 Server Error:\n",
      "'<html>\\n<head>\\n<meta http-equiv=\"Content-Type\" content=\"text/html;charset=ISO-8859-1\"/>\\n<title>Error 500 Server Error</title>\\n</head>\\n<body>\\n<h2>HTTP ERROR: 500</h2>\\n<p>Problem accessing /3/PostFile. Reason:\\n<pre>    Server Error</pre></p>\\n\\n                                                \\n                                                \\n                                                \\n                                                \\n                                                \\n                                                \\n                                                \\n                                                \\n                                                \\n                                                \\n                                                \\n                                                \\n                                                \\n                                                \\n                                                \\n                                                \\n                                                \\n                                                \\n                                                \\n                                                \\n</body>\\n</html>\\n'\n",
      "Failed polling AutoML progress log: HTTP 500 Server Error:\n"
     ]
    },
    {
     "name": "stdout",
     "output_type": "stream",
     "text": [
      "'<html>\\n<head>\\n<meta http-equiv=\"Content-Type\" content=\"text/html;charset=ISO-8859-1\"/>\\n<title>Error 500 Server Error</title>\\n</head>\\n<body>\\n<h2>HTTP ERROR: 500</h2>\\n<p>Problem accessing /3/PostFile. Reason:\\n<pre>    Server Error</pre></p>\\n\\n                                                \\n                                                \\n                                                \\n                                                \\n                                                \\n                                                \\n                                                \\n                                                \\n                                                \\n                                                \\n                                                \\n                                                \\n                                                \\n                                                \\n                                                \\n                                                \\n                                                \\n                                                \\n                                                \\n                                                \\n</body>\\n</html>\\n'\n",
      "Failed polling AutoML progress log: HTTP 500 Server Error:\n",
      "'<html>\\n<head>\\n<meta http-equiv=\"Content-Type\" content=\"text/html;charset=ISO-8859-1\"/>\\n<title>Error 500 Server Error</title>\\n</head>\\n<body>\\n<h2>HTTP ERROR: 500</h2>\\n<p>Problem accessing /3/PostFile. Reason:\\n<pre>    Server Error</pre></p>\\n\\n                                                \\n                                                \\n                                                \\n                                                \\n                                                \\n                                                \\n                                                \\n                                                \\n                                                \\n                                                \\n                                                \\n                                                \\n                                                \\n                                                \\n                                                \\n                                                \\n                                                \\n                                                \\n                                                \\n                                                \\n</body>\\n</html>\\n'\n",
      "Failed polling AutoML progress log: HTTP 500 Server Error:\n",
      "'<html>\\n<head>\\n<meta http-equiv=\"Content-Type\" content=\"text/html;charset=ISO-8859-1\"/>\\n<title>Error 500 Server Error</title>\\n</head>\\n<body>\\n<h2>HTTP ERROR: 500</h2>\\n<p>Problem accessing /3/PostFile. Reason:\\n<pre>    Server Error</pre></p>\\n\\n                                                \\n                                                \\n                                                \\n                                                \\n                                                \\n                                                \\n                                                \\n                                                \\n                                                \\n                                                \\n                                                \\n                                                \\n                                                \\n                                                \\n                                                \\n                                                \\n                                                \\n                                                \\n                                                \\n                                                \\n</body>\\n</html>\\n'\n",
      "Failed polling AutoML progress log: HTTP 500 Server Error:\n",
      "'<html>\\n<head>\\n<meta http-equiv=\"Content-Type\" content=\"text/html;charset=ISO-8859-1\"/>\\n<title>Error 500 Server Error</title>\\n</head>\\n<body>\\n<h2>HTTP ERROR: 500</h2>\\n<p>Problem accessing /3/PostFile. Reason:\\n<pre>    Server Error</pre></p>\\n\\n                                                \\n                                                \\n                                                \\n                                                \\n                                                \\n                                                \\n                                                \\n                                                \\n                                                \\n                                                \\n                                                \\n                                                \\n                                                \\n                                                \\n                                                \\n                                                \\n                                                \\n                                                \\n                                                \\n                                                \\n</body>\\n</html>\\n'\n",
      "Failed polling AutoML progress log: HTTP 500 Server Error:\n",
      "'<html>\\n<head>\\n<meta http-equiv=\"Content-Type\" content=\"text/html;charset=ISO-8859-1\"/>\\n<title>Error 500 Server Error</title>\\n</head>\\n<body>\\n<h2>HTTP ERROR: 500</h2>\\n<p>Problem accessing /3/PostFile. Reason:\\n<pre>    Server Error</pre></p>\\n\\n                                                \\n                                                \\n                                                \\n                                                \\n                                                \\n                                                \\n                                                \\n                                                \\n                                                \\n                                                \\n                                                \\n                                                \\n                                                \\n                                                \\n                                                \\n                                                \\n                                                \\n                                                \\n                                                \\n                                                \\n</body>\\n</html>\\n'\n",
      "Failed polling AutoML progress log: HTTP 500 Server Error:\n",
      "'<html>\\n<head>\\n<meta http-equiv=\"Content-Type\" content=\"text/html;charset=ISO-8859-1\"/>\\n<title>Error 500 Server Error</title>\\n</head>\\n<body>\\n<h2>HTTP ERROR: 500</h2>\\n<p>Problem accessing /3/PostFile. Reason:\\n<pre>    Server Error</pre></p>\\n\\n                                                \\n                                                \\n                                                \\n                                                \\n                                                \\n                                                \\n                                                \\n                                                \\n                                                \\n                                                \\n                                                \\n                                                \\n                                                \\n                                                \\n                                                \\n                                                \\n                                                \\n                                                \\n                                                \\n                                                \\n</body>\\n</html>\\n'\n",
      "Failed polling AutoML progress log: HTTP 500 Server Error:\n"
     ]
    },
    {
     "name": "stdout",
     "output_type": "stream",
     "text": [
      "'<html>\\n<head>\\n<meta http-equiv=\"Content-Type\" content=\"text/html;charset=ISO-8859-1\"/>\\n<title>Error 500 Server Error</title>\\n</head>\\n<body>\\n<h2>HTTP ERROR: 500</h2>\\n<p>Problem accessing /3/PostFile. Reason:\\n<pre>    Server Error</pre></p>\\n\\n                                                \\n                                                \\n                                                \\n                                                \\n                                                \\n                                                \\n                                                \\n                                                \\n                                                \\n                                                \\n                                                \\n                                                \\n                                                \\n                                                \\n                                                \\n                                                \\n                                                \\n                                                \\n                                                \\n                                                \\n</body>\\n</html>\\n'\n",
      "Failed polling AutoML progress log: HTTP 500 Server Error:\n",
      "'<html>\\n<head>\\n<meta http-equiv=\"Content-Type\" content=\"text/html;charset=ISO-8859-1\"/>\\n<title>Error 500 Server Error</title>\\n</head>\\n<body>\\n<h2>HTTP ERROR: 500</h2>\\n<p>Problem accessing /3/PostFile. Reason:\\n<pre>    Server Error</pre></p>\\n\\n                                                \\n                                                \\n                                                \\n                                                \\n                                                \\n                                                \\n                                                \\n                                                \\n                                                \\n                                                \\n                                                \\n                                                \\n                                                \\n                                                \\n                                                \\n                                                \\n                                                \\n                                                \\n                                                \\n                                                \\n</body>\\n</html>\\n'\n",
      "Failed polling AutoML progress log: HTTP 500 Server Error:\n",
      "'<html>\\n<head>\\n<meta http-equiv=\"Content-Type\" content=\"text/html;charset=ISO-8859-1\"/>\\n<title>Error 500 Server Error</title>\\n</head>\\n<body>\\n<h2>HTTP ERROR: 500</h2>\\n<p>Problem accessing /3/PostFile. Reason:\\n<pre>    Server Error</pre></p>\\n\\n                                                \\n                                                \\n                                                \\n                                                \\n                                                \\n                                                \\n                                                \\n                                                \\n                                                \\n                                                \\n                                                \\n                                                \\n                                                \\n                                                \\n                                                \\n                                                \\n                                                \\n                                                \\n                                                \\n                                                \\n</body>\\n</html>\\n'\n",
      "Failed polling AutoML progress log: HTTP 500 Server Error:\n",
      "'<html>\\n<head>\\n<meta http-equiv=\"Content-Type\" content=\"text/html;charset=ISO-8859-1\"/>\\n<title>Error 500 Server Error</title>\\n</head>\\n<body>\\n<h2>HTTP ERROR: 500</h2>\\n<p>Problem accessing /3/PostFile. Reason:\\n<pre>    Server Error</pre></p>\\n\\n                                                \\n                                                \\n                                                \\n                                                \\n                                                \\n                                                \\n                                                \\n                                                \\n                                                \\n                                                \\n                                                \\n                                                \\n                                                \\n                                                \\n                                                \\n                                                \\n                                                \\n                                                \\n                                                \\n                                                \\n</body>\\n</html>\\n'\n",
      "█Failed polling AutoML progress log: HTTP 500 Server Error:\n",
      "'<html>\\n<head>\\n<meta http-equiv=\"Content-Type\" content=\"text/html;charset=ISO-8859-1\"/>\\n<title>Error 500 Server Error</title>\\n</head>\\n<body>\\n<h2>HTTP ERROR: 500</h2>\\n<p>Problem accessing /3/PostFile. Reason:\\n<pre>    Server Error</pre></p>\\n\\n                                                \\n                                                \\n                                                \\n                                                \\n                                                \\n                                                \\n                                                \\n                                                \\n                                                \\n                                                \\n                                                \\n                                                \\n                                                \\n                                                \\n                                                \\n                                                \\n                                                \\n                                                \\n                                                \\n                                                \\n</body>\\n</html>\\n'\n",
      "Failed polling AutoML progress log: HTTP 500 Server Error:\n",
      "'<html>\\n<head>\\n<meta http-equiv=\"Content-Type\" content=\"text/html;charset=ISO-8859-1\"/>\\n<title>Error 500 Server Error</title>\\n</head>\\n<body>\\n<h2>HTTP ERROR: 500</h2>\\n<p>Problem accessing /3/PostFile. Reason:\\n<pre>    Server Error</pre></p>\\n\\n                                                \\n                                                \\n                                                \\n                                                \\n                                                \\n                                                \\n                                                \\n                                                \\n                                                \\n                                                \\n                                                \\n                                                \\n                                                \\n                                                \\n                                                \\n                                                \\n                                                \\n                                                \\n                                                \\n                                                \\n</body>\\n</html>\\n'\n",
      "Failed polling AutoML progress log: HTTP 500 Server Error:\n"
     ]
    },
    {
     "name": "stdout",
     "output_type": "stream",
     "text": [
      "'<html>\\n<head>\\n<meta http-equiv=\"Content-Type\" content=\"text/html;charset=ISO-8859-1\"/>\\n<title>Error 500 Server Error</title>\\n</head>\\n<body>\\n<h2>HTTP ERROR: 500</h2>\\n<p>Problem accessing /3/PostFile. Reason:\\n<pre>    Server Error</pre></p>\\n\\n                                                \\n                                                \\n                                                \\n                                                \\n                                                \\n                                                \\n                                                \\n                                                \\n                                                \\n                                                \\n                                                \\n                                                \\n                                                \\n                                                \\n                                                \\n                                                \\n                                                \\n                                                \\n                                                \\n                                                \\n</body>\\n</html>\\n'\n",
      "Failed polling AutoML progress log: HTTP 500 Server Error:\n",
      "'<html>\\n<head>\\n<meta http-equiv=\"Content-Type\" content=\"text/html;charset=ISO-8859-1\"/>\\n<title>Error 500 Server Error</title>\\n</head>\\n<body>\\n<h2>HTTP ERROR: 500</h2>\\n<p>Problem accessing /3/PostFile. Reason:\\n<pre>    Server Error</pre></p>\\n\\n                                                \\n                                                \\n                                                \\n                                                \\n                                                \\n                                                \\n                                                \\n                                                \\n                                                \\n                                                \\n                                                \\n                                                \\n                                                \\n                                                \\n                                                \\n                                                \\n                                                \\n                                                \\n                                                \\n                                                \\n</body>\\n</html>\\n'\n",
      "Failed polling AutoML progress log: HTTP 500 Server Error:\n",
      "'<html>\\n<head>\\n<meta http-equiv=\"Content-Type\" content=\"text/html;charset=ISO-8859-1\"/>\\n<title>Error 500 Server Error</title>\\n</head>\\n<body>\\n<h2>HTTP ERROR: 500</h2>\\n<p>Problem accessing /3/PostFile. Reason:\\n<pre>    Server Error</pre></p>\\n\\n                                                \\n                                                \\n                                                \\n                                                \\n                                                \\n                                                \\n                                                \\n                                                \\n                                                \\n                                                \\n                                                \\n                                                \\n                                                \\n                                                \\n                                                \\n                                                \\n                                                \\n                                                \\n                                                \\n                                                \\n</body>\\n</html>\\n'\n",
      "Failed polling AutoML progress log: HTTP 500 Server Error:\n",
      "'<html>\\n<head>\\n<meta http-equiv=\"Content-Type\" content=\"text/html;charset=ISO-8859-1\"/>\\n<title>Error 500 Server Error</title>\\n</head>\\n<body>\\n<h2>HTTP ERROR: 500</h2>\\n<p>Problem accessing /3/PostFile. Reason:\\n<pre>    Server Error</pre></p>\\n\\n                                                \\n                                                \\n                                                \\n                                                \\n                                                \\n                                                \\n                                                \\n                                                \\n                                                \\n                                                \\n                                                \\n                                                \\n                                                \\n                                                \\n                                                \\n                                                \\n                                                \\n                                                \\n                                                \\n                                                \\n</body>\\n</html>\\n'\n",
      "Failed polling AutoML progress log: HTTP 500 Server Error:\n",
      "'<html>\\n<head>\\n<meta http-equiv=\"Content-Type\" content=\"text/html;charset=ISO-8859-1\"/>\\n<title>Error 500 Server Error</title>\\n</head>\\n<body>\\n<h2>HTTP ERROR: 500</h2>\\n<p>Problem accessing /3/PostFile. Reason:\\n<pre>    Server Error</pre></p>\\n\\n                                                \\n                                                \\n                                                \\n                                                \\n                                                \\n                                                \\n                                                \\n                                                \\n                                                \\n                                                \\n                                                \\n                                                \\n                                                \\n                                                \\n                                                \\n                                                \\n                                                \\n                                                \\n                                                \\n                                                \\n</body>\\n</html>\\n'\n",
      "Failed polling AutoML progress log: HTTP 500 Server Error:\n",
      "'<html>\\n<head>\\n<meta http-equiv=\"Content-Type\" content=\"text/html;charset=ISO-8859-1\"/>\\n<title>Error 500 Server Error</title>\\n</head>\\n<body>\\n<h2>HTTP ERROR: 500</h2>\\n<p>Problem accessing /3/PostFile. Reason:\\n<pre>    Server Error</pre></p>\\n\\n                                                \\n                                                \\n                                                \\n                                                \\n                                                \\n                                                \\n                                                \\n                                                \\n                                                \\n                                                \\n                                                \\n                                                \\n                                                \\n                                                \\n                                                \\n                                                \\n                                                \\n                                                \\n                                                \\n                                                \\n</body>\\n</html>\\n'\n",
      "Failed polling AutoML progress log: HTTP 500 Server Error:\n"
     ]
    },
    {
     "name": "stdout",
     "output_type": "stream",
     "text": [
      "'<html>\\n<head>\\n<meta http-equiv=\"Content-Type\" content=\"text/html;charset=ISO-8859-1\"/>\\n<title>Error 500 Server Error</title>\\n</head>\\n<body>\\n<h2>HTTP ERROR: 500</h2>\\n<p>Problem accessing /3/PostFile. Reason:\\n<pre>    Server Error</pre></p>\\n\\n                                                \\n                                                \\n                                                \\n                                                \\n                                                \\n                                                \\n                                                \\n                                                \\n                                                \\n                                                \\n                                                \\n                                                \\n                                                \\n                                                \\n                                                \\n                                                \\n                                                \\n                                                \\n                                                \\n                                                \\n</body>\\n</html>\\n'\n",
      "Failed polling AutoML progress log: HTTP 500 Server Error:\n",
      "'<html>\\n<head>\\n<meta http-equiv=\"Content-Type\" content=\"text/html;charset=ISO-8859-1\"/>\\n<title>Error 500 Server Error</title>\\n</head>\\n<body>\\n<h2>HTTP ERROR: 500</h2>\\n<p>Problem accessing /3/PostFile. Reason:\\n<pre>    Server Error</pre></p>\\n\\n                                                \\n                                                \\n                                                \\n                                                \\n                                                \\n                                                \\n                                                \\n                                                \\n                                                \\n                                                \\n                                                \\n                                                \\n                                                \\n                                                \\n                                                \\n                                                \\n                                                \\n                                                \\n                                                \\n                                                \\n</body>\\n</html>\\n'\n",
      "Failed polling AutoML progress log: HTTP 500 Server Error:\n",
      "'<html>\\n<head>\\n<meta http-equiv=\"Content-Type\" content=\"text/html;charset=ISO-8859-1\"/>\\n<title>Error 500 Server Error</title>\\n</head>\\n<body>\\n<h2>HTTP ERROR: 500</h2>\\n<p>Problem accessing /3/PostFile. Reason:\\n<pre>    Server Error</pre></p>\\n\\n                                                \\n                                                \\n                                                \\n                                                \\n                                                \\n                                                \\n                                                \\n                                                \\n                                                \\n                                                \\n                                                \\n                                                \\n                                                \\n                                                \\n                                                \\n                                                \\n                                                \\n                                                \\n                                                \\n                                                \\n</body>\\n</html>\\n'\n",
      "Failed polling AutoML progress log: HTTP 500 Server Error:\n",
      "'<html>\\n<head>\\n<meta http-equiv=\"Content-Type\" content=\"text/html;charset=ISO-8859-1\"/>\\n<title>Error 500 Server Error</title>\\n</head>\\n<body>\\n<h2>HTTP ERROR: 500</h2>\\n<p>Problem accessing /3/PostFile. Reason:\\n<pre>    Server Error</pre></p>\\n\\n                                                \\n                                                \\n                                                \\n                                                \\n                                                \\n                                                \\n                                                \\n                                                \\n                                                \\n                                                \\n                                                \\n                                                \\n                                                \\n                                                \\n                                                \\n                                                \\n                                                \\n                                                \\n                                                \\n                                                \\n</body>\\n</html>\\n'\n",
      "█Failed polling AutoML progress log: HTTP 500 Server Error:\n",
      "'<html>\\n<head>\\n<meta http-equiv=\"Content-Type\" content=\"text/html;charset=ISO-8859-1\"/>\\n<title>Error 500 Server Error</title>\\n</head>\\n<body>\\n<h2>HTTP ERROR: 500</h2>\\n<p>Problem accessing /3/PostFile. Reason:\\n<pre>    Server Error</pre></p>\\n\\n                                                \\n                                                \\n                                                \\n                                                \\n                                                \\n                                                \\n                                                \\n                                                \\n                                                \\n                                                \\n                                                \\n                                                \\n                                                \\n                                                \\n                                                \\n                                                \\n                                                \\n                                                \\n                                                \\n                                                \\n</body>\\n</html>\\n'\n",
      "Failed polling AutoML progress log: HTTP 500 Server Error:\n",
      "'<html>\\n<head>\\n<meta http-equiv=\"Content-Type\" content=\"text/html;charset=ISO-8859-1\"/>\\n<title>Error 500 Server Error</title>\\n</head>\\n<body>\\n<h2>HTTP ERROR: 500</h2>\\n<p>Problem accessing /3/PostFile. Reason:\\n<pre>    Server Error</pre></p>\\n\\n                                                \\n                                                \\n                                                \\n                                                \\n                                                \\n                                                \\n                                                \\n                                                \\n                                                \\n                                                \\n                                                \\n                                                \\n                                                \\n                                                \\n                                                \\n                                                \\n                                                \\n                                                \\n                                                \\n                                                \\n</body>\\n</html>\\n'\n",
      "Failed polling AutoML progress log: HTTP 500 Server Error:\n"
     ]
    },
    {
     "name": "stdout",
     "output_type": "stream",
     "text": [
      "'<html>\\n<head>\\n<meta http-equiv=\"Content-Type\" content=\"text/html;charset=ISO-8859-1\"/>\\n<title>Error 500 Server Error</title>\\n</head>\\n<body>\\n<h2>HTTP ERROR: 500</h2>\\n<p>Problem accessing /3/PostFile. Reason:\\n<pre>    Server Error</pre></p>\\n\\n                                                \\n                                                \\n                                                \\n                                                \\n                                                \\n                                                \\n                                                \\n                                                \\n                                                \\n                                                \\n                                                \\n                                                \\n                                                \\n                                                \\n                                                \\n                                                \\n                                                \\n                                                \\n                                                \\n                                                \\n</body>\\n</html>\\n'\n",
      "Failed polling AutoML progress log: HTTP 500 Server Error:\n",
      "'<html>\\n<head>\\n<meta http-equiv=\"Content-Type\" content=\"text/html;charset=ISO-8859-1\"/>\\n<title>Error 500 Server Error</title>\\n</head>\\n<body>\\n<h2>HTTP ERROR: 500</h2>\\n<p>Problem accessing /3/PostFile. Reason:\\n<pre>    Server Error</pre></p>\\n\\n                                                \\n                                                \\n                                                \\n                                                \\n                                                \\n                                                \\n                                                \\n                                                \\n                                                \\n                                                \\n                                                \\n                                                \\n                                                \\n                                                \\n                                                \\n                                                \\n                                                \\n                                                \\n                                                \\n                                                \\n</body>\\n</html>\\n'\n",
      "Failed polling AutoML progress log: HTTP 500 Server Error:\n",
      "'<html>\\n<head>\\n<meta http-equiv=\"Content-Type\" content=\"text/html;charset=ISO-8859-1\"/>\\n<title>Error 500 Server Error</title>\\n</head>\\n<body>\\n<h2>HTTP ERROR: 500</h2>\\n<p>Problem accessing /3/PostFile. Reason:\\n<pre>    Server Error</pre></p>\\n\\n                                                \\n                                                \\n                                                \\n                                                \\n                                                \\n                                                \\n                                                \\n                                                \\n                                                \\n                                                \\n                                                \\n                                                \\n                                                \\n                                                \\n                                                \\n                                                \\n                                                \\n                                                \\n                                                \\n                                                \\n</body>\\n</html>\\n'\n",
      "Failed polling AutoML progress log: HTTP 500 Server Error:\n",
      "'<html>\\n<head>\\n<meta http-equiv=\"Content-Type\" content=\"text/html;charset=ISO-8859-1\"/>\\n<title>Error 500 Server Error</title>\\n</head>\\n<body>\\n<h2>HTTP ERROR: 500</h2>\\n<p>Problem accessing /3/PostFile. Reason:\\n<pre>    Server Error</pre></p>\\n\\n                                                \\n                                                \\n                                                \\n                                                \\n                                                \\n                                                \\n                                                \\n                                                \\n                                                \\n                                                \\n                                                \\n                                                \\n                                                \\n                                                \\n                                                \\n                                                \\n                                                \\n                                                \\n                                                \\n                                                \\n</body>\\n</html>\\n'\n",
      "Failed polling AutoML progress log: HTTP 500 Server Error:\n",
      "'<html>\\n<head>\\n<meta http-equiv=\"Content-Type\" content=\"text/html;charset=ISO-8859-1\"/>\\n<title>Error 500 Server Error</title>\\n</head>\\n<body>\\n<h2>HTTP ERROR: 500</h2>\\n<p>Problem accessing /3/PostFile. Reason:\\n<pre>    Server Error</pre></p>\\n\\n                                                \\n                                                \\n                                                \\n                                                \\n                                                \\n                                                \\n                                                \\n                                                \\n                                                \\n                                                \\n                                                \\n                                                \\n                                                \\n                                                \\n                                                \\n                                                \\n                                                \\n                                                \\n                                                \\n                                                \\n</body>\\n</html>\\n'\n",
      "Failed polling AutoML progress log: HTTP 500 Server Error:\n",
      "'<html>\\n<head>\\n<meta http-equiv=\"Content-Type\" content=\"text/html;charset=ISO-8859-1\"/>\\n<title>Error 500 Server Error</title>\\n</head>\\n<body>\\n<h2>HTTP ERROR: 500</h2>\\n<p>Problem accessing /3/PostFile. Reason:\\n<pre>    Server Error</pre></p>\\n\\n                                                \\n                                                \\n                                                \\n                                                \\n                                                \\n                                                \\n                                                \\n                                                \\n                                                \\n                                                \\n                                                \\n                                                \\n                                                \\n                                                \\n                                                \\n                                                \\n                                                \\n                                                \\n                                                \\n                                                \\n</body>\\n</html>\\n'\n",
      "Failed polling AutoML progress log: HTTP 500 Server Error:\n"
     ]
    },
    {
     "name": "stdout",
     "output_type": "stream",
     "text": [
      "'<html>\\n<head>\\n<meta http-equiv=\"Content-Type\" content=\"text/html;charset=ISO-8859-1\"/>\\n<title>Error 500 Server Error</title>\\n</head>\\n<body>\\n<h2>HTTP ERROR: 500</h2>\\n<p>Problem accessing /3/PostFile. Reason:\\n<pre>    Server Error</pre></p>\\n\\n                                                \\n                                                \\n                                                \\n                                                \\n                                                \\n                                                \\n                                                \\n                                                \\n                                                \\n                                                \\n                                                \\n                                                \\n                                                \\n                                                \\n                                                \\n                                                \\n                                                \\n                                                \\n                                                \\n                                                \\n</body>\\n</html>\\n'\n",
      "Failed polling AutoML progress log: HTTP 500 Server Error:\n",
      "'<html>\\n<head>\\n<meta http-equiv=\"Content-Type\" content=\"text/html;charset=ISO-8859-1\"/>\\n<title>Error 500 Server Error</title>\\n</head>\\n<body>\\n<h2>HTTP ERROR: 500</h2>\\n<p>Problem accessing /3/PostFile. Reason:\\n<pre>    Server Error</pre></p>\\n\\n                                                \\n                                                \\n                                                \\n                                                \\n                                                \\n                                                \\n                                                \\n                                                \\n                                                \\n                                                \\n                                                \\n                                                \\n                                                \\n                                                \\n                                                \\n                                                \\n                                                \\n                                                \\n                                                \\n                                                \\n</body>\\n</html>\\n'\n",
      "Failed polling AutoML progress log: HTTP 500 Server Error:\n",
      "'<html>\\n<head>\\n<meta http-equiv=\"Content-Type\" content=\"text/html;charset=ISO-8859-1\"/>\\n<title>Error 500 Server Error</title>\\n</head>\\n<body>\\n<h2>HTTP ERROR: 500</h2>\\n<p>Problem accessing /3/PostFile. Reason:\\n<pre>    Server Error</pre></p>\\n\\n                                                \\n                                                \\n                                                \\n                                                \\n                                                \\n                                                \\n                                                \\n                                                \\n                                                \\n                                                \\n                                                \\n                                                \\n                                                \\n                                                \\n                                                \\n                                                \\n                                                \\n                                                \\n                                                \\n                                                \\n</body>\\n</html>\\n'\n",
      "Failed polling AutoML progress log: HTTP 500 Server Error:\n",
      "'<html>\\n<head>\\n<meta http-equiv=\"Content-Type\" content=\"text/html;charset=ISO-8859-1\"/>\\n<title>Error 500 Server Error</title>\\n</head>\\n<body>\\n<h2>HTTP ERROR: 500</h2>\\n<p>Problem accessing /3/PostFile. Reason:\\n<pre>    Server Error</pre></p>\\n\\n                                                \\n                                                \\n                                                \\n                                                \\n                                                \\n                                                \\n                                                \\n                                                \\n                                                \\n                                                \\n                                                \\n                                                \\n                                                \\n                                                \\n                                                \\n                                                \\n                                                \\n                                                \\n                                                \\n                                                \\n</body>\\n</html>\\n'\n",
      "█Failed polling AutoML progress log: HTTP 500 Server Error:\n",
      "'<html>\\n<head>\\n<meta http-equiv=\"Content-Type\" content=\"text/html;charset=ISO-8859-1\"/>\\n<title>Error 500 Server Error</title>\\n</head>\\n<body>\\n<h2>HTTP ERROR: 500</h2>\\n<p>Problem accessing /3/PostFile. Reason:\\n<pre>    Server Error</pre></p>\\n\\n                                                \\n                                                \\n                                                \\n                                                \\n                                                \\n                                                \\n                                                \\n                                                \\n                                                \\n                                                \\n                                                \\n                                                \\n                                                \\n                                                \\n                                                \\n                                                \\n                                                \\n                                                \\n                                                \\n                                                \\n</body>\\n</html>\\n'\n",
      "Failed polling AutoML progress log: HTTP 500 Server Error:\n",
      "'<html>\\n<head>\\n<meta http-equiv=\"Content-Type\" content=\"text/html;charset=ISO-8859-1\"/>\\n<title>Error 500 Server Error</title>\\n</head>\\n<body>\\n<h2>HTTP ERROR: 500</h2>\\n<p>Problem accessing /3/PostFile. Reason:\\n<pre>    Server Error</pre></p>\\n\\n                                                \\n                                                \\n                                                \\n                                                \\n                                                \\n                                                \\n                                                \\n                                                \\n                                                \\n                                                \\n                                                \\n                                                \\n                                                \\n                                                \\n                                                \\n                                                \\n                                                \\n                                                \\n                                                \\n                                                \\n</body>\\n</html>\\n'\n",
      "Failed polling AutoML progress log: HTTP 500 Server Error:\n"
     ]
    },
    {
     "name": "stdout",
     "output_type": "stream",
     "text": [
      "'<html>\\n<head>\\n<meta http-equiv=\"Content-Type\" content=\"text/html;charset=ISO-8859-1\"/>\\n<title>Error 500 Server Error</title>\\n</head>\\n<body>\\n<h2>HTTP ERROR: 500</h2>\\n<p>Problem accessing /3/PostFile. Reason:\\n<pre>    Server Error</pre></p>\\n\\n                                                \\n                                                \\n                                                \\n                                                \\n                                                \\n                                                \\n                                                \\n                                                \\n                                                \\n                                                \\n                                                \\n                                                \\n                                                \\n                                                \\n                                                \\n                                                \\n                                                \\n                                                \\n                                                \\n                                                \\n</body>\\n</html>\\n'\n",
      "Failed polling AutoML progress log: HTTP 500 Server Error:\n",
      "'<html>\\n<head>\\n<meta http-equiv=\"Content-Type\" content=\"text/html;charset=ISO-8859-1\"/>\\n<title>Error 500 Server Error</title>\\n</head>\\n<body>\\n<h2>HTTP ERROR: 500</h2>\\n<p>Problem accessing /3/PostFile. Reason:\\n<pre>    Server Error</pre></p>\\n\\n                                                \\n                                                \\n                                                \\n                                                \\n                                                \\n                                                \\n                                                \\n                                                \\n                                                \\n                                                \\n                                                \\n                                                \\n                                                \\n                                                \\n                                                \\n                                                \\n                                                \\n                                                \\n                                                \\n                                                \\n</body>\\n</html>\\n'\n",
      "Failed polling AutoML progress log: HTTP 500 Server Error:\n",
      "'<html>\\n<head>\\n<meta http-equiv=\"Content-Type\" content=\"text/html;charset=ISO-8859-1\"/>\\n<title>Error 500 Server Error</title>\\n</head>\\n<body>\\n<h2>HTTP ERROR: 500</h2>\\n<p>Problem accessing /3/PostFile. Reason:\\n<pre>    Server Error</pre></p>\\n\\n                                                \\n                                                \\n                                                \\n                                                \\n                                                \\n                                                \\n                                                \\n                                                \\n                                                \\n                                                \\n                                                \\n                                                \\n                                                \\n                                                \\n                                                \\n                                                \\n                                                \\n                                                \\n                                                \\n                                                \\n</body>\\n</html>\\n'\n",
      "Failed polling AutoML progress log: HTTP 500 Server Error:\n",
      "'<html>\\n<head>\\n<meta http-equiv=\"Content-Type\" content=\"text/html;charset=ISO-8859-1\"/>\\n<title>Error 500 Server Error</title>\\n</head>\\n<body>\\n<h2>HTTP ERROR: 500</h2>\\n<p>Problem accessing /3/PostFile. Reason:\\n<pre>    Server Error</pre></p>\\n\\n                                                \\n                                                \\n                                                \\n                                                \\n                                                \\n                                                \\n                                                \\n                                                \\n                                                \\n                                                \\n                                                \\n                                                \\n                                                \\n                                                \\n                                                \\n                                                \\n                                                \\n                                                \\n                                                \\n                                                \\n</body>\\n</html>\\n'\n",
      "Failed polling AutoML progress log: HTTP 500 Server Error:\n",
      "'<html>\\n<head>\\n<meta http-equiv=\"Content-Type\" content=\"text/html;charset=ISO-8859-1\"/>\\n<title>Error 500 Server Error</title>\\n</head>\\n<body>\\n<h2>HTTP ERROR: 500</h2>\\n<p>Problem accessing /3/PostFile. Reason:\\n<pre>    Server Error</pre></p>\\n\\n                                                \\n                                                \\n                                                \\n                                                \\n                                                \\n                                                \\n                                                \\n                                                \\n                                                \\n                                                \\n                                                \\n                                                \\n                                                \\n                                                \\n                                                \\n                                                \\n                                                \\n                                                \\n                                                \\n                                                \\n</body>\\n</html>\\n'\n",
      "Failed polling AutoML progress log: HTTP 500 Server Error:\n",
      "'<html>\\n<head>\\n<meta http-equiv=\"Content-Type\" content=\"text/html;charset=ISO-8859-1\"/>\\n<title>Error 500 Server Error</title>\\n</head>\\n<body>\\n<h2>HTTP ERROR: 500</h2>\\n<p>Problem accessing /3/PostFile. Reason:\\n<pre>    Server Error</pre></p>\\n\\n                                                \\n                                                \\n                                                \\n                                                \\n                                                \\n                                                \\n                                                \\n                                                \\n                                                \\n                                                \\n                                                \\n                                                \\n                                                \\n                                                \\n                                                \\n                                                \\n                                                \\n                                                \\n                                                \\n                                                \\n</body>\\n</html>\\n'\n",
      "Failed polling AutoML progress log: HTTP 500 Server Error:\n"
     ]
    },
    {
     "name": "stdout",
     "output_type": "stream",
     "text": [
      "'<html>\\n<head>\\n<meta http-equiv=\"Content-Type\" content=\"text/html;charset=ISO-8859-1\"/>\\n<title>Error 500 Server Error</title>\\n</head>\\n<body>\\n<h2>HTTP ERROR: 500</h2>\\n<p>Problem accessing /3/PostFile. Reason:\\n<pre>    Server Error</pre></p>\\n\\n                                                \\n                                                \\n                                                \\n                                                \\n                                                \\n                                                \\n                                                \\n                                                \\n                                                \\n                                                \\n                                                \\n                                                \\n                                                \\n                                                \\n                                                \\n                                                \\n                                                \\n                                                \\n                                                \\n                                                \\n</body>\\n</html>\\n'\n",
      "Failed polling AutoML progress log: HTTP 500 Server Error:\n",
      "'<html>\\n<head>\\n<meta http-equiv=\"Content-Type\" content=\"text/html;charset=ISO-8859-1\"/>\\n<title>Error 500 Server Error</title>\\n</head>\\n<body>\\n<h2>HTTP ERROR: 500</h2>\\n<p>Problem accessing /3/PostFile. Reason:\\n<pre>    Server Error</pre></p>\\n\\n                                                \\n                                                \\n                                                \\n                                                \\n                                                \\n                                                \\n                                                \\n                                                \\n                                                \\n                                                \\n                                                \\n                                                \\n                                                \\n                                                \\n                                                \\n                                                \\n                                                \\n                                                \\n                                                \\n                                                \\n</body>\\n</html>\\n'\n",
      "Failed polling AutoML progress log: HTTP 500 Server Error:\n",
      "'<html>\\n<head>\\n<meta http-equiv=\"Content-Type\" content=\"text/html;charset=ISO-8859-1\"/>\\n<title>Error 500 Server Error</title>\\n</head>\\n<body>\\n<h2>HTTP ERROR: 500</h2>\\n<p>Problem accessing /3/PostFile. Reason:\\n<pre>    Server Error</pre></p>\\n\\n                                                \\n                                                \\n                                                \\n                                                \\n                                                \\n                                                \\n                                                \\n                                                \\n                                                \\n                                                \\n                                                \\n                                                \\n                                                \\n                                                \\n                                                \\n                                                \\n                                                \\n                                                \\n                                                \\n                                                \\n</body>\\n</html>\\n'\n",
      "Failed polling AutoML progress log: HTTP 500 Server Error:\n",
      "'<html>\\n<head>\\n<meta http-equiv=\"Content-Type\" content=\"text/html;charset=ISO-8859-1\"/>\\n<title>Error 500 Server Error</title>\\n</head>\\n<body>\\n<h2>HTTP ERROR: 500</h2>\\n<p>Problem accessing /3/PostFile. Reason:\\n<pre>    Server Error</pre></p>\\n\\n                                                \\n                                                \\n                                                \\n                                                \\n                                                \\n                                                \\n                                                \\n                                                \\n                                                \\n                                                \\n                                                \\n                                                \\n                                                \\n                                                \\n                                                \\n                                                \\n                                                \\n                                                \\n                                                \\n                                                \\n</body>\\n</html>\\n'\n",
      "█Failed polling AutoML progress log: HTTP 500 Server Error:\n",
      "'<html>\\n<head>\\n<meta http-equiv=\"Content-Type\" content=\"text/html;charset=ISO-8859-1\"/>\\n<title>Error 500 Server Error</title>\\n</head>\\n<body>\\n<h2>HTTP ERROR: 500</h2>\\n<p>Problem accessing /3/PostFile. Reason:\\n<pre>    Server Error</pre></p>\\n\\n                                                \\n                                                \\n                                                \\n                                                \\n                                                \\n                                                \\n                                                \\n                                                \\n                                                \\n                                                \\n                                                \\n                                                \\n                                                \\n                                                \\n                                                \\n                                                \\n                                                \\n                                                \\n                                                \\n                                                \\n</body>\\n</html>\\n'\n",
      "Failed polling AutoML progress log: HTTP 500 Server Error:\n",
      "'<html>\\n<head>\\n<meta http-equiv=\"Content-Type\" content=\"text/html;charset=ISO-8859-1\"/>\\n<title>Error 500 Server Error</title>\\n</head>\\n<body>\\n<h2>HTTP ERROR: 500</h2>\\n<p>Problem accessing /3/PostFile. Reason:\\n<pre>    Server Error</pre></p>\\n\\n                                                \\n                                                \\n                                                \\n                                                \\n                                                \\n                                                \\n                                                \\n                                                \\n                                                \\n                                                \\n                                                \\n                                                \\n                                                \\n                                                \\n                                                \\n                                                \\n                                                \\n                                                \\n                                                \\n                                                \\n</body>\\n</html>\\n'\n",
      "Failed polling AutoML progress log: HTTP 500 Server Error:\n"
     ]
    },
    {
     "name": "stdout",
     "output_type": "stream",
     "text": [
      "'<html>\\n<head>\\n<meta http-equiv=\"Content-Type\" content=\"text/html;charset=ISO-8859-1\"/>\\n<title>Error 500 Server Error</title>\\n</head>\\n<body>\\n<h2>HTTP ERROR: 500</h2>\\n<p>Problem accessing /3/PostFile. Reason:\\n<pre>    Server Error</pre></p>\\n\\n                                                \\n                                                \\n                                                \\n                                                \\n                                                \\n                                                \\n                                                \\n                                                \\n                                                \\n                                                \\n                                                \\n                                                \\n                                                \\n                                                \\n                                                \\n                                                \\n                                                \\n                                                \\n                                                \\n                                                \\n</body>\\n</html>\\n'\n",
      "Failed polling AutoML progress log: HTTP 500 Server Error:\n",
      "'<html>\\n<head>\\n<meta http-equiv=\"Content-Type\" content=\"text/html;charset=ISO-8859-1\"/>\\n<title>Error 500 Server Error</title>\\n</head>\\n<body>\\n<h2>HTTP ERROR: 500</h2>\\n<p>Problem accessing /3/PostFile. Reason:\\n<pre>    Server Error</pre></p>\\n\\n                                                \\n                                                \\n                                                \\n                                                \\n                                                \\n                                                \\n                                                \\n                                                \\n                                                \\n                                                \\n                                                \\n                                                \\n                                                \\n                                                \\n                                                \\n                                                \\n                                                \\n                                                \\n                                                \\n                                                \\n</body>\\n</html>\\n'\n",
      "Failed polling AutoML progress log: HTTP 500 java.lang.OutOfMemoryError: GC overhead limit exceeded:\n",
      "'<html>\\n<head>\\n<meta http-equiv=\"Content-Type\" content=\"text/html;charset=ISO-8859-1\"/>\\n<title>Error 500 java.lang.OutOfMemoryError: GC overhead limit exceeded\\r\\n</title>\\n</head>\\n<body>\\n<h2>HTTP ERROR: 500</h2>\\n<p>Problem accessing /99/AutoML/AutoML_20200211_163820728@@did_crash_happen. Reason:\\n<pre>    java.lang.OutOfMemoryError: GC overhead limit exceeded\\r\\n</pre></p>\\n\\n                                                \\n                                                \\n                                                \\n                                                \\n                                                \\n                                                \\n                                                \\n                                                \\n                                                \\n                                                \\n                                                \\n                                                \\n                                                \\n                                                \\n                                                \\n                                                \\n                                                \\n                                                \\n                                                \\n                                                \\n</body>\\n</html>\\n'\n",
      "Failed polling AutoML progress log: HTTP 500 Server Error:\n",
      "'<html>\\n<head>\\n<meta http-equiv=\"Content-Type\" content=\"text/html;charset=ISO-8859-1\"/>\\n<title>Error 500 Server Error</title>\\n</head>\\n<body>\\n<h2>HTTP ERROR: 500</h2>\\n<p>Problem accessing /3/PostFile. Reason:\\n<pre>    Server Error</pre></p>\\n\\n                                                \\n                                                \\n                                                \\n                                                \\n                                                \\n                                                \\n                                                \\n                                                \\n                                                \\n                                                \\n                                                \\n                                                \\n                                                \\n                                                \\n                                                \\n                                                \\n                                                \\n                                                \\n                                                \\n                                                \\n</body>\\n</html>\\n'\n",
      "Failed polling AutoML progress log: HTTP 500 Server Error:\n",
      "'<html>\\n<head>\\n<meta http-equiv=\"Content-Type\" content=\"text/html;charset=ISO-8859-1\"/>\\n<title>Error 500 Server Error</title>\\n</head>\\n<body>\\n<h2>HTTP ERROR: 500</h2>\\n<p>Problem accessing /3/PostFile. Reason:\\n<pre>    Server Error</pre></p>\\n\\n                                                \\n                                                \\n                                                \\n                                                \\n                                                \\n                                                \\n                                                \\n                                                \\n                                                \\n                                                \\n                                                \\n                                                \\n                                                \\n                                                \\n                                                \\n                                                \\n                                                \\n                                                \\n                                                \\n                                                \\n</body>\\n</html>\\n'\n",
      "Failed polling AutoML progress log: HTTP 500 Server Error:\n",
      "'<html>\\n<head>\\n<meta http-equiv=\"Content-Type\" content=\"text/html;charset=ISO-8859-1\"/>\\n<title>Error 500 Server Error</title>\\n</head>\\n<body>\\n<h2>HTTP ERROR: 500</h2>\\n<p>Problem accessing /3/PostFile. Reason:\\n<pre>    Server Error</pre></p>\\n\\n                                                \\n                                                \\n                                                \\n                                                \\n                                                \\n                                                \\n                                                \\n                                                \\n                                                \\n                                                \\n                                                \\n                                                \\n                                                \\n                                                \\n                                                \\n                                                \\n                                                \\n                                                \\n                                                \\n                                                \\n</body>\\n</html>\\n'\n",
      "Failed polling AutoML progress log: HTTP 500 Server Error:\n"
     ]
    },
    {
     "name": "stdout",
     "output_type": "stream",
     "text": [
      "'<html>\\n<head>\\n<meta http-equiv=\"Content-Type\" content=\"text/html;charset=ISO-8859-1\"/>\\n<title>Error 500 Server Error</title>\\n</head>\\n<body>\\n<h2>HTTP ERROR: 500</h2>\\n<p>Problem accessing /3/PostFile. Reason:\\n<pre>    Server Error</pre></p>\\n\\n                                                \\n                                                \\n                                                \\n                                                \\n                                                \\n                                                \\n                                                \\n                                                \\n                                                \\n                                                \\n                                                \\n                                                \\n                                                \\n                                                \\n                                                \\n                                                \\n                                                \\n                                                \\n                                                \\n                                                \\n</body>\\n</html>\\n'\n",
      "Failed polling AutoML progress log: HTTP 500 Server Error:\n",
      "'<html>\\n<head>\\n<meta http-equiv=\"Content-Type\" content=\"text/html;charset=ISO-8859-1\"/>\\n<title>Error 500 Server Error</title>\\n</head>\\n<body>\\n<h2>HTTP ERROR: 500</h2>\\n<p>Problem accessing /3/PostFile. Reason:\\n<pre>    Server Error</pre></p>\\n\\n                                                \\n                                                \\n                                                \\n                                                \\n                                                \\n                                                \\n                                                \\n                                                \\n                                                \\n                                                \\n                                                \\n                                                \\n                                                \\n                                                \\n                                                \\n                                                \\n                                                \\n                                                \\n                                                \\n                                                \\n</body>\\n</html>\\n'\n",
      "Failed polling AutoML progress log: HTTP 500 Server Error:\n",
      "'<html>\\n<head>\\n<meta http-equiv=\"Content-Type\" content=\"text/html;charset=ISO-8859-1\"/>\\n<title>Error 500 Server Error</title>\\n</head>\\n<body>\\n<h2>HTTP ERROR: 500</h2>\\n<p>Problem accessing /3/PostFile. Reason:\\n<pre>    Server Error</pre></p>\\n\\n                                                \\n                                                \\n                                                \\n                                                \\n                                                \\n                                                \\n                                                \\n                                                \\n                                                \\n                                                \\n                                                \\n                                                \\n                                                \\n                                                \\n                                                \\n                                                \\n                                                \\n                                                \\n                                                \\n                                                \\n</body>\\n</html>\\n'\n",
      "Failed polling AutoML progress log: HTTP 500 Server Error:\n",
      "'<html>\\n<head>\\n<meta http-equiv=\"Content-Type\" content=\"text/html;charset=ISO-8859-1\"/>\\n<title>Error 500 Server Error</title>\\n</head>\\n<body>\\n<h2>HTTP ERROR: 500</h2>\\n<p>Problem accessing /3/PostFile. Reason:\\n<pre>    Server Error</pre></p>\\n\\n                                                \\n                                                \\n                                                \\n                                                \\n                                                \\n                                                \\n                                                \\n                                                \\n                                                \\n                                                \\n                                                \\n                                                \\n                                                \\n                                                \\n                                                \\n                                                \\n                                                \\n                                                \\n                                                \\n                                                \\n</body>\\n</html>\\n'\n",
      "█Failed polling AutoML progress log: HTTP 500 Server Error:\n",
      "'<html>\\n<head>\\n<meta http-equiv=\"Content-Type\" content=\"text/html;charset=ISO-8859-1\"/>\\n<title>Error 500 Server Error</title>\\n</head>\\n<body>\\n<h2>HTTP ERROR: 500</h2>\\n<p>Problem accessing /3/PostFile. Reason:\\n<pre>    Server Error</pre></p>\\n\\n                                                \\n                                                \\n                                                \\n                                                \\n                                                \\n                                                \\n                                                \\n                                                \\n                                                \\n                                                \\n                                                \\n                                                \\n                                                \\n                                                \\n                                                \\n                                                \\n                                                \\n                                                \\n                                                \\n                                                \\n</body>\\n</html>\\n'\n",
      "Failed polling AutoML progress log: HTTP 500 Server Error:\n",
      "'<html>\\n<head>\\n<meta http-equiv=\"Content-Type\" content=\"text/html;charset=ISO-8859-1\"/>\\n<title>Error 500 Server Error</title>\\n</head>\\n<body>\\n<h2>HTTP ERROR: 500</h2>\\n<p>Problem accessing /3/PostFile. Reason:\\n<pre>    Server Error</pre></p>\\n\\n                                                \\n                                                \\n                                                \\n                                                \\n                                                \\n                                                \\n                                                \\n                                                \\n                                                \\n                                                \\n                                                \\n                                                \\n                                                \\n                                                \\n                                                \\n                                                \\n                                                \\n                                                \\n                                                \\n                                                \\n</body>\\n</html>\\n'\n",
      "Failed polling AutoML progress log: HTTP 500 Server Error:\n"
     ]
    },
    {
     "name": "stdout",
     "output_type": "stream",
     "text": [
      "'<html>\\n<head>\\n<meta http-equiv=\"Content-Type\" content=\"text/html;charset=ISO-8859-1\"/>\\n<title>Error 500 Server Error</title>\\n</head>\\n<body>\\n<h2>HTTP ERROR: 500</h2>\\n<p>Problem accessing /3/PostFile. Reason:\\n<pre>    Server Error</pre></p>\\n\\n                                                \\n                                                \\n                                                \\n                                                \\n                                                \\n                                                \\n                                                \\n                                                \\n                                                \\n                                                \\n                                                \\n                                                \\n                                                \\n                                                \\n                                                \\n                                                \\n                                                \\n                                                \\n                                                \\n                                                \\n</body>\\n</html>\\n'\n",
      "Failed polling AutoML progress log: HTTP 500 Server Error:\n",
      "'<html>\\n<head>\\n<meta http-equiv=\"Content-Type\" content=\"text/html;charset=ISO-8859-1\"/>\\n<title>Error 500 Server Error</title>\\n</head>\\n<body>\\n<h2>HTTP ERROR: 500</h2>\\n<p>Problem accessing /3/PostFile. Reason:\\n<pre>    Server Error</pre></p>\\n\\n                                                \\n                                                \\n                                                \\n                                                \\n                                                \\n                                                \\n                                                \\n                                                \\n                                                \\n                                                \\n                                                \\n                                                \\n                                                \\n                                                \\n                                                \\n                                                \\n                                                \\n                                                \\n                                                \\n                                                \\n</body>\\n</html>\\n'\n",
      "Failed polling AutoML progress log: HTTP 500 Server Error:\n",
      "'<html>\\n<head>\\n<meta http-equiv=\"Content-Type\" content=\"text/html;charset=ISO-8859-1\"/>\\n<title>Error 500 Server Error</title>\\n</head>\\n<body>\\n<h2>HTTP ERROR: 500</h2>\\n<p>Problem accessing /3/PostFile. Reason:\\n<pre>    Server Error</pre></p>\\n\\n                                                \\n                                                \\n                                                \\n                                                \\n                                                \\n                                                \\n                                                \\n                                                \\n                                                \\n                                                \\n                                                \\n                                                \\n                                                \\n                                                \\n                                                \\n                                                \\n                                                \\n                                                \\n                                                \\n                                                \\n</body>\\n</html>\\n'\n",
      "Failed polling AutoML progress log: HTTP 500 Server Error:\n",
      "'<html>\\n<head>\\n<meta http-equiv=\"Content-Type\" content=\"text/html;charset=ISO-8859-1\"/>\\n<title>Error 500 Server Error</title>\\n</head>\\n<body>\\n<h2>HTTP ERROR: 500</h2>\\n<p>Problem accessing /3/PostFile. Reason:\\n<pre>    Server Error</pre></p>\\n\\n                                                \\n                                                \\n                                                \\n                                                \\n                                                \\n                                                \\n                                                \\n                                                \\n                                                \\n                                                \\n                                                \\n                                                \\n                                                \\n                                                \\n                                                \\n                                                \\n                                                \\n                                                \\n                                                \\n                                                \\n</body>\\n</html>\\n'\n",
      "Failed polling AutoML progress log: HTTP 500 java.lang.OutOfMemoryError: GC overhead limit exceeded:\n",
      "'<html>\\n<head>\\n<meta http-equiv=\"Content-Type\" content=\"text/html;charset=ISO-8859-1\"/>\\n<title>Error 500 java.lang.OutOfMemoryError: GC overhead limit exceeded\\r\\n</title>\\n</head>\\n<body>\\n<h2>HTTP ERROR: 500</h2>\\n<p>Problem accessing /99/AutoML/AutoML_20200211_163820728@@did_crash_happen. Reason:\\n<pre>    java.lang.OutOfMemoryError: GC overhead limit exceeded\\r\\n</pre></p>\\n\\n                                                \\n                                                \\n                                                \\n                                                \\n                                                \\n                                                \\n                                                \\n                                                \\n                                                \\n                                                \\n                                                \\n                                                \\n                                                \\n                                                \\n                                                \\n                                                \\n                                                \\n                                                \\n                                                \\n                                                \\n</body>\\n</html>\\n'\n",
      "Failed polling AutoML progress log: HTTP 500 Server Error:\n",
      "'<html>\\n<head>\\n<meta http-equiv=\"Content-Type\" content=\"text/html;charset=ISO-8859-1\"/>\\n<title>Error 500 Server Error</title>\\n</head>\\n<body>\\n<h2>HTTP ERROR: 500</h2>\\n<p>Problem accessing /3/PostFile. Reason:\\n<pre>    Server Error</pre></p>\\n\\n                                                \\n                                                \\n                                                \\n                                                \\n                                                \\n                                                \\n                                                \\n                                                \\n                                                \\n                                                \\n                                                \\n                                                \\n                                                \\n                                                \\n                                                \\n                                                \\n                                                \\n                                                \\n                                                \\n                                                \\n</body>\\n</html>\\n'\n",
      "Failed polling AutoML progress log: HTTP 500 Server Error:\n"
     ]
    },
    {
     "name": "stdout",
     "output_type": "stream",
     "text": [
      "'<html>\\n<head>\\n<meta http-equiv=\"Content-Type\" content=\"text/html;charset=ISO-8859-1\"/>\\n<title>Error 500 Server Error</title>\\n</head>\\n<body>\\n<h2>HTTP ERROR: 500</h2>\\n<p>Problem accessing /3/PostFile. Reason:\\n<pre>    Server Error</pre></p>\\n\\n                                                \\n                                                \\n                                                \\n                                                \\n                                                \\n                                                \\n                                                \\n                                                \\n                                                \\n                                                \\n                                                \\n                                                \\n                                                \\n                                                \\n                                                \\n                                                \\n                                                \\n                                                \\n                                                \\n                                                \\n</body>\\n</html>\\n'\n",
      "Failed polling AutoML progress log: HTTP 500 Server Error:\n",
      "'<html>\\n<head>\\n<meta http-equiv=\"Content-Type\" content=\"text/html;charset=ISO-8859-1\"/>\\n<title>Error 500 Server Error</title>\\n</head>\\n<body>\\n<h2>HTTP ERROR: 500</h2>\\n<p>Problem accessing /3/PostFile. Reason:\\n<pre>    Server Error</pre></p>\\n\\n                                                \\n                                                \\n                                                \\n                                                \\n                                                \\n                                                \\n                                                \\n                                                \\n                                                \\n                                                \\n                                                \\n                                                \\n                                                \\n                                                \\n                                                \\n                                                \\n                                                \\n                                                \\n                                                \\n                                                \\n</body>\\n</html>\\n'\n",
      "Failed polling AutoML progress log: HTTP 500 Server Error:\n",
      "'<html>\\n<head>\\n<meta http-equiv=\"Content-Type\" content=\"text/html;charset=ISO-8859-1\"/>\\n<title>Error 500 Server Error</title>\\n</head>\\n<body>\\n<h2>HTTP ERROR: 500</h2>\\n<p>Problem accessing /3/PostFile. Reason:\\n<pre>    Server Error</pre></p>\\n\\n                                                \\n                                                \\n                                                \\n                                                \\n                                                \\n                                                \\n                                                \\n                                                \\n                                                \\n                                                \\n                                                \\n                                                \\n                                                \\n                                                \\n                                                \\n                                                \\n                                                \\n                                                \\n                                                \\n                                                \\n</body>\\n</html>\\n'\n",
      "█Failed polling AutoML progress log: HTTP 500 Server Error:\n",
      "'<html>\\n<head>\\n<meta http-equiv=\"Content-Type\" content=\"text/html;charset=ISO-8859-1\"/>\\n<title>Error 500 Server Error</title>\\n</head>\\n<body>\\n<h2>HTTP ERROR: 500</h2>\\n<p>Problem accessing /3/PostFile. Reason:\\n<pre>    Server Error</pre></p>\\n\\n                                                \\n                                                \\n                                                \\n                                                \\n                                                \\n                                                \\n                                                \\n                                                \\n                                                \\n                                                \\n                                                \\n                                                \\n                                                \\n                                                \\n                                                \\n                                                \\n                                                \\n                                                \\n                                                \\n                                                \\n</body>\\n</html>\\n'\n",
      "Failed polling AutoML progress log: HTTP 500 Server Error:\n",
      "'<html>\\n<head>\\n<meta http-equiv=\"Content-Type\" content=\"text/html;charset=ISO-8859-1\"/>\\n<title>Error 500 Server Error</title>\\n</head>\\n<body>\\n<h2>HTTP ERROR: 500</h2>\\n<p>Problem accessing /3/PostFile. Reason:\\n<pre>    Server Error</pre></p>\\n\\n                                                \\n                                                \\n                                                \\n                                                \\n                                                \\n                                                \\n                                                \\n                                                \\n                                                \\n                                                \\n                                                \\n                                                \\n                                                \\n                                                \\n                                                \\n                                                \\n                                                \\n                                                \\n                                                \\n                                                \\n</body>\\n</html>\\n'\n",
      "Failed polling AutoML progress log: HTTP 500 Server Error:\n",
      "'<html>\\n<head>\\n<meta http-equiv=\"Content-Type\" content=\"text/html;charset=ISO-8859-1\"/>\\n<title>Error 500 Server Error</title>\\n</head>\\n<body>\\n<h2>HTTP ERROR: 500</h2>\\n<p>Problem accessing /3/PostFile. Reason:\\n<pre>    Server Error</pre></p>\\n\\n                                                \\n                                                \\n                                                \\n                                                \\n                                                \\n                                                \\n                                                \\n                                                \\n                                                \\n                                                \\n                                                \\n                                                \\n                                                \\n                                                \\n                                                \\n                                                \\n                                                \\n                                                \\n                                                \\n                                                \\n</body>\\n</html>\\n'\n",
      "Failed polling AutoML progress log: HTTP 500 Server Error:\n"
     ]
    },
    {
     "name": "stdout",
     "output_type": "stream",
     "text": [
      "'<html>\\n<head>\\n<meta http-equiv=\"Content-Type\" content=\"text/html;charset=ISO-8859-1\"/>\\n<title>Error 500 Server Error</title>\\n</head>\\n<body>\\n<h2>HTTP ERROR: 500</h2>\\n<p>Problem accessing /3/PostFile. Reason:\\n<pre>    Server Error</pre></p>\\n\\n                                                \\n                                                \\n                                                \\n                                                \\n                                                \\n                                                \\n                                                \\n                                                \\n                                                \\n                                                \\n                                                \\n                                                \\n                                                \\n                                                \\n                                                \\n                                                \\n                                                \\n                                                \\n                                                \\n                                                \\n</body>\\n</html>\\n'\n",
      "Failed polling AutoML progress log: HTTP 500 Server Error:\n",
      "'<html>\\n<head>\\n<meta http-equiv=\"Content-Type\" content=\"text/html;charset=ISO-8859-1\"/>\\n<title>Error 500 Server Error</title>\\n</head>\\n<body>\\n<h2>HTTP ERROR: 500</h2>\\n<p>Problem accessing /3/PostFile. Reason:\\n<pre>    Server Error</pre></p>\\n\\n                                                \\n                                                \\n                                                \\n                                                \\n                                                \\n                                                \\n                                                \\n                                                \\n                                                \\n                                                \\n                                                \\n                                                \\n                                                \\n                                                \\n                                                \\n                                                \\n                                                \\n                                                \\n                                                \\n                                                \\n</body>\\n</html>\\n'\n",
      "Failed polling AutoML progress log: HTTP 500 Server Error:\n",
      "'<html>\\n<head>\\n<meta http-equiv=\"Content-Type\" content=\"text/html;charset=ISO-8859-1\"/>\\n<title>Error 500 Server Error</title>\\n</head>\\n<body>\\n<h2>HTTP ERROR: 500</h2>\\n<p>Problem accessing /3/PostFile. Reason:\\n<pre>    Server Error</pre></p>\\n\\n                                                \\n                                                \\n                                                \\n                                                \\n                                                \\n                                                \\n                                                \\n                                                \\n                                                \\n                                                \\n                                                \\n                                                \\n                                                \\n                                                \\n                                                \\n                                                \\n                                                \\n                                                \\n                                                \\n                                                \\n</body>\\n</html>\\n'\n",
      "Failed polling AutoML progress log: HTTP 500 Server Error:\n",
      "'<html>\\n<head>\\n<meta http-equiv=\"Content-Type\" content=\"text/html;charset=ISO-8859-1\"/>\\n<title>Error 500 Server Error</title>\\n</head>\\n<body>\\n<h2>HTTP ERROR: 500</h2>\\n<p>Problem accessing /3/PostFile. Reason:\\n<pre>    Server Error</pre></p>\\n\\n                                                \\n                                                \\n                                                \\n                                                \\n                                                \\n                                                \\n                                                \\n                                                \\n                                                \\n                                                \\n                                                \\n                                                \\n                                                \\n                                                \\n                                                \\n                                                \\n                                                \\n                                                \\n                                                \\n                                                \\n</body>\\n</html>\\n'\n",
      "Failed polling AutoML progress log: HTTP 500 Server Error:\n",
      "'<html>\\n<head>\\n<meta http-equiv=\"Content-Type\" content=\"text/html;charset=ISO-8859-1\"/>\\n<title>Error 500 Server Error</title>\\n</head>\\n<body>\\n<h2>HTTP ERROR: 500</h2>\\n<p>Problem accessing /3/PostFile. Reason:\\n<pre>    Server Error</pre></p>\\n\\n                                                \\n                                                \\n                                                \\n                                                \\n                                                \\n                                                \\n                                                \\n                                                \\n                                                \\n                                                \\n                                                \\n                                                \\n                                                \\n                                                \\n                                                \\n                                                \\n                                                \\n                                                \\n                                                \\n                                                \\n</body>\\n</html>\\n'\n",
      "Failed polling AutoML progress log: HTTP 500 Server Error:\n",
      "'<html>\\n<head>\\n<meta http-equiv=\"Content-Type\" content=\"text/html;charset=ISO-8859-1\"/>\\n<title>Error 500 Server Error</title>\\n</head>\\n<body>\\n<h2>HTTP ERROR: 500</h2>\\n<p>Problem accessing /3/PostFile. Reason:\\n<pre>    Server Error</pre></p>\\n\\n                                                \\n                                                \\n                                                \\n                                                \\n                                                \\n                                                \\n                                                \\n                                                \\n                                                \\n                                                \\n                                                \\n                                                \\n                                                \\n                                                \\n                                                \\n                                                \\n                                                \\n                                                \\n                                                \\n                                                \\n</body>\\n</html>\\n'\n",
      "Failed polling AutoML progress log: HTTP 500 Server Error:\n"
     ]
    },
    {
     "name": "stdout",
     "output_type": "stream",
     "text": [
      "'<html>\\n<head>\\n<meta http-equiv=\"Content-Type\" content=\"text/html;charset=ISO-8859-1\"/>\\n<title>Error 500 Server Error</title>\\n</head>\\n<body>\\n<h2>HTTP ERROR: 500</h2>\\n<p>Problem accessing /3/PostFile. Reason:\\n<pre>    Server Error</pre></p>\\n\\n                                                \\n                                                \\n                                                \\n                                                \\n                                                \\n                                                \\n                                                \\n                                                \\n                                                \\n                                                \\n                                                \\n                                                \\n                                                \\n                                                \\n                                                \\n                                                \\n                                                \\n                                                \\n                                                \\n                                                \\n</body>\\n</html>\\n'\n",
      "Failed polling AutoML progress log: HTTP 500 Server Error:\n",
      "'<html>\\n<head>\\n<meta http-equiv=\"Content-Type\" content=\"text/html;charset=ISO-8859-1\"/>\\n<title>Error 500 Server Error</title>\\n</head>\\n<body>\\n<h2>HTTP ERROR: 500</h2>\\n<p>Problem accessing /3/PostFile. Reason:\\n<pre>    Server Error</pre></p>\\n\\n                                                \\n                                                \\n                                                \\n                                                \\n                                                \\n                                                \\n                                                \\n                                                \\n                                                \\n                                                \\n                                                \\n                                                \\n                                                \\n                                                \\n                                                \\n                                                \\n                                                \\n                                                \\n                                                \\n                                                \\n</body>\\n</html>\\n'\n",
      "Failed polling AutoML progress log: HTTP 500 Server Error:\n",
      "'<html>\\n<head>\\n<meta http-equiv=\"Content-Type\" content=\"text/html;charset=ISO-8859-1\"/>\\n<title>Error 500 Server Error</title>\\n</head>\\n<body>\\n<h2>HTTP ERROR: 500</h2>\\n<p>Problem accessing /3/PostFile. Reason:\\n<pre>    Server Error</pre></p>\\n\\n                                                \\n                                                \\n                                                \\n                                                \\n                                                \\n                                                \\n                                                \\n                                                \\n                                                \\n                                                \\n                                                \\n                                                \\n                                                \\n                                                \\n                                                \\n                                                \\n                                                \\n                                                \\n                                                \\n                                                \\n</body>\\n</html>\\n'\n",
      "█Failed polling AutoML progress log: HTTP 500 Server Error:\n",
      "'<html>\\n<head>\\n<meta http-equiv=\"Content-Type\" content=\"text/html;charset=ISO-8859-1\"/>\\n<title>Error 500 Server Error</title>\\n</head>\\n<body>\\n<h2>HTTP ERROR: 500</h2>\\n<p>Problem accessing /3/PostFile. Reason:\\n<pre>    Server Error</pre></p>\\n\\n                                                \\n                                                \\n                                                \\n                                                \\n                                                \\n                                                \\n                                                \\n                                                \\n                                                \\n                                                \\n                                                \\n                                                \\n                                                \\n                                                \\n                                                \\n                                                \\n                                                \\n                                                \\n                                                \\n                                                \\n</body>\\n</html>\\n'\n",
      "Failed polling AutoML progress log: HTTP 500 Server Error:\n",
      "'<html>\\n<head>\\n<meta http-equiv=\"Content-Type\" content=\"text/html;charset=ISO-8859-1\"/>\\n<title>Error 500 Server Error</title>\\n</head>\\n<body>\\n<h2>HTTP ERROR: 500</h2>\\n<p>Problem accessing /3/PostFile. Reason:\\n<pre>    Server Error</pre></p>\\n\\n                                                \\n                                                \\n                                                \\n                                                \\n                                                \\n                                                \\n                                                \\n                                                \\n                                                \\n                                                \\n                                                \\n                                                \\n                                                \\n                                                \\n                                                \\n                                                \\n                                                \\n                                                \\n                                                \\n                                                \\n</body>\\n</html>\\n'\n",
      "Failed polling AutoML progress log: HTTP 500 Server Error:\n",
      "'<html>\\n<head>\\n<meta http-equiv=\"Content-Type\" content=\"text/html;charset=ISO-8859-1\"/>\\n<title>Error 500 Server Error</title>\\n</head>\\n<body>\\n<h2>HTTP ERROR: 500</h2>\\n<p>Problem accessing /3/PostFile. Reason:\\n<pre>    Server Error</pre></p>\\n\\n                                                \\n                                                \\n                                                \\n                                                \\n                                                \\n                                                \\n                                                \\n                                                \\n                                                \\n                                                \\n                                                \\n                                                \\n                                                \\n                                                \\n                                                \\n                                                \\n                                                \\n                                                \\n                                                \\n                                                \\n</body>\\n</html>\\n'\n",
      "Failed polling AutoML progress log: HTTP 500 Server Error:\n"
     ]
    },
    {
     "name": "stdout",
     "output_type": "stream",
     "text": [
      "'<html>\\n<head>\\n<meta http-equiv=\"Content-Type\" content=\"text/html;charset=ISO-8859-1\"/>\\n<title>Error 500 Server Error</title>\\n</head>\\n<body>\\n<h2>HTTP ERROR: 500</h2>\\n<p>Problem accessing /3/PostFile. Reason:\\n<pre>    Server Error</pre></p>\\n\\n                                                \\n                                                \\n                                                \\n                                                \\n                                                \\n                                                \\n                                                \\n                                                \\n                                                \\n                                                \\n                                                \\n                                                \\n                                                \\n                                                \\n                                                \\n                                                \\n                                                \\n                                                \\n                                                \\n                                                \\n</body>\\n</html>\\n'\n",
      "Failed polling AutoML progress log: HTTP 500 Server Error:\n",
      "'<html>\\n<head>\\n<meta http-equiv=\"Content-Type\" content=\"text/html;charset=ISO-8859-1\"/>\\n<title>Error 500 Server Error</title>\\n</head>\\n<body>\\n<h2>HTTP ERROR: 500</h2>\\n<p>Problem accessing /3/PostFile. Reason:\\n<pre>    Server Error</pre></p>\\n\\n                                                \\n                                                \\n                                                \\n                                                \\n                                                \\n                                                \\n                                                \\n                                                \\n                                                \\n                                                \\n                                                \\n                                                \\n                                                \\n                                                \\n                                                \\n                                                \\n                                                \\n                                                \\n                                                \\n                                                \\n</body>\\n</html>\\n'\n",
      "Failed polling AutoML progress log: HTTP 500 Server Error:\n",
      "'<html>\\n<head>\\n<meta http-equiv=\"Content-Type\" content=\"text/html;charset=ISO-8859-1\"/>\\n<title>Error 500 Server Error</title>\\n</head>\\n<body>\\n<h2>HTTP ERROR: 500</h2>\\n<p>Problem accessing /3/PostFile. Reason:\\n<pre>    Server Error</pre></p>\\n\\n                                                \\n                                                \\n                                                \\n                                                \\n                                                \\n                                                \\n                                                \\n                                                \\n                                                \\n                                                \\n                                                \\n                                                \\n                                                \\n                                                \\n                                                \\n                                                \\n                                                \\n                                                \\n                                                \\n                                                \\n</body>\\n</html>\\n'\n",
      "Failed polling AutoML progress log: HTTP 500 Server Error:\n",
      "'<html>\\n<head>\\n<meta http-equiv=\"Content-Type\" content=\"text/html;charset=ISO-8859-1\"/>\\n<title>Error 500 Server Error</title>\\n</head>\\n<body>\\n<h2>HTTP ERROR: 500</h2>\\n<p>Problem accessing /3/PostFile. Reason:\\n<pre>    Server Error</pre></p>\\n\\n                                                \\n                                                \\n                                                \\n                                                \\n                                                \\n                                                \\n                                                \\n                                                \\n                                                \\n                                                \\n                                                \\n                                                \\n                                                \\n                                                \\n                                                \\n                                                \\n                                                \\n                                                \\n                                                \\n                                                \\n</body>\\n</html>\\n'\n",
      "Failed polling AutoML progress log: HTTP 500 Server Error:\n",
      "'<html>\\n<head>\\n<meta http-equiv=\"Content-Type\" content=\"text/html;charset=ISO-8859-1\"/>\\n<title>Error 500 Server Error</title>\\n</head>\\n<body>\\n<h2>HTTP ERROR: 500</h2>\\n<p>Problem accessing /3/PostFile. Reason:\\n<pre>    Server Error</pre></p>\\n\\n                                                \\n                                                \\n                                                \\n                                                \\n                                                \\n                                                \\n                                                \\n                                                \\n                                                \\n                                                \\n                                                \\n                                                \\n                                                \\n                                                \\n                                                \\n                                                \\n                                                \\n                                                \\n                                                \\n                                                \\n</body>\\n</html>\\n'\n",
      "Failed polling AutoML progress log: HTTP 500 Server Error:\n",
      "'<html>\\n<head>\\n<meta http-equiv=\"Content-Type\" content=\"text/html;charset=ISO-8859-1\"/>\\n<title>Error 500 Server Error</title>\\n</head>\\n<body>\\n<h2>HTTP ERROR: 500</h2>\\n<p>Problem accessing /3/PostFile. Reason:\\n<pre>    Server Error</pre></p>\\n\\n                                                \\n                                                \\n                                                \\n                                                \\n                                                \\n                                                \\n                                                \\n                                                \\n                                                \\n                                                \\n                                                \\n                                                \\n                                                \\n                                                \\n                                                \\n                                                \\n                                                \\n                                                \\n                                                \\n                                                \\n</body>\\n</html>\\n'\n",
      "Failed polling AutoML progress log: HTTP 500 Server Error:\n"
     ]
    },
    {
     "name": "stdout",
     "output_type": "stream",
     "text": [
      "'<html>\\n<head>\\n<meta http-equiv=\"Content-Type\" content=\"text/html;charset=ISO-8859-1\"/>\\n<title>Error 500 Server Error</title>\\n</head>\\n<body>\\n<h2>HTTP ERROR: 500</h2>\\n<p>Problem accessing /3/PostFile. Reason:\\n<pre>    Server Error</pre></p>\\n\\n                                                \\n                                                \\n                                                \\n                                                \\n                                                \\n                                                \\n                                                \\n                                                \\n                                                \\n                                                \\n                                                \\n                                                \\n                                                \\n                                                \\n                                                \\n                                                \\n                                                \\n                                                \\n                                                \\n                                                \\n</body>\\n</html>\\n'\n",
      "Failed polling AutoML progress log: HTTP 500 Server Error:\n",
      "'<html>\\n<head>\\n<meta http-equiv=\"Content-Type\" content=\"text/html;charset=ISO-8859-1\"/>\\n<title>Error 500 Server Error</title>\\n</head>\\n<body>\\n<h2>HTTP ERROR: 500</h2>\\n<p>Problem accessing /3/PostFile. Reason:\\n<pre>    Server Error</pre></p>\\n\\n                                                \\n                                                \\n                                                \\n                                                \\n                                                \\n                                                \\n                                                \\n                                                \\n                                                \\n                                                \\n                                                \\n                                                \\n                                                \\n                                                \\n                                                \\n                                                \\n                                                \\n                                                \\n                                                \\n                                                \\n</body>\\n</html>\\n'\n",
      "Failed polling AutoML progress log: HTTP 500 Server Error:\n",
      "'<html>\\n<head>\\n<meta http-equiv=\"Content-Type\" content=\"text/html;charset=ISO-8859-1\"/>\\n<title>Error 500 Server Error</title>\\n</head>\\n<body>\\n<h2>HTTP ERROR: 500</h2>\\n<p>Problem accessing /3/PostFile. Reason:\\n<pre>    Server Error</pre></p>\\n\\n                                                \\n                                                \\n                                                \\n                                                \\n                                                \\n                                                \\n                                                \\n                                                \\n                                                \\n                                                \\n                                                \\n                                                \\n                                                \\n                                                \\n                                                \\n                                                \\n                                                \\n                                                \\n                                                \\n                                                \\n</body>\\n</html>\\n'\n",
      "█Failed polling AutoML progress log: HTTP 500 Server Error:\n",
      "'<html>\\n<head>\\n<meta http-equiv=\"Content-Type\" content=\"text/html;charset=ISO-8859-1\"/>\\n<title>Error 500 Server Error</title>\\n</head>\\n<body>\\n<h2>HTTP ERROR: 500</h2>\\n<p>Problem accessing /3/PostFile. Reason:\\n<pre>    Server Error</pre></p>\\n\\n                                                \\n                                                \\n                                                \\n                                                \\n                                                \\n                                                \\n                                                \\n                                                \\n                                                \\n                                                \\n                                                \\n                                                \\n                                                \\n                                                \\n                                                \\n                                                \\n                                                \\n                                                \\n                                                \\n                                                \\n</body>\\n</html>\\n'\n",
      "Failed polling AutoML progress log: HTTP 500 Server Error:\n",
      "'<html>\\n<head>\\n<meta http-equiv=\"Content-Type\" content=\"text/html;charset=ISO-8859-1\"/>\\n<title>Error 500 Server Error</title>\\n</head>\\n<body>\\n<h2>HTTP ERROR: 500</h2>\\n<p>Problem accessing /3/PostFile. Reason:\\n<pre>    Server Error</pre></p>\\n\\n                                                \\n                                                \\n                                                \\n                                                \\n                                                \\n                                                \\n                                                \\n                                                \\n                                                \\n                                                \\n                                                \\n                                                \\n                                                \\n                                                \\n                                                \\n                                                \\n                                                \\n                                                \\n                                                \\n                                                \\n</body>\\n</html>\\n'\n",
      "Failed polling AutoML progress log: HTTP 500 Server Error:\n",
      "'<html>\\n<head>\\n<meta http-equiv=\"Content-Type\" content=\"text/html;charset=ISO-8859-1\"/>\\n<title>Error 500 Server Error</title>\\n</head>\\n<body>\\n<h2>HTTP ERROR: 500</h2>\\n<p>Problem accessing /3/PostFile. Reason:\\n<pre>    Server Error</pre></p>\\n\\n                                                \\n                                                \\n                                                \\n                                                \\n                                                \\n                                                \\n                                                \\n                                                \\n                                                \\n                                                \\n                                                \\n                                                \\n                                                \\n                                                \\n                                                \\n                                                \\n                                                \\n                                                \\n                                                \\n                                                \\n</body>\\n</html>\\n'\n",
      "Failed polling AutoML progress log: HTTP 500 Server Error:\n"
     ]
    },
    {
     "name": "stdout",
     "output_type": "stream",
     "text": [
      "'<html>\\n<head>\\n<meta http-equiv=\"Content-Type\" content=\"text/html;charset=ISO-8859-1\"/>\\n<title>Error 500 Server Error</title>\\n</head>\\n<body>\\n<h2>HTTP ERROR: 500</h2>\\n<p>Problem accessing /3/PostFile. Reason:\\n<pre>    Server Error</pre></p>\\n\\n                                                \\n                                                \\n                                                \\n                                                \\n                                                \\n                                                \\n                                                \\n                                                \\n                                                \\n                                                \\n                                                \\n                                                \\n                                                \\n                                                \\n                                                \\n                                                \\n                                                \\n                                                \\n                                                \\n                                                \\n</body>\\n</html>\\n'\n",
      "Failed polling AutoML progress log: HTTP 500 Server Error:\n",
      "'<html>\\n<head>\\n<meta http-equiv=\"Content-Type\" content=\"text/html;charset=ISO-8859-1\"/>\\n<title>Error 500 Server Error</title>\\n</head>\\n<body>\\n<h2>HTTP ERROR: 500</h2>\\n<p>Problem accessing /3/PostFile. Reason:\\n<pre>    Server Error</pre></p>\\n\\n                                                \\n                                                \\n                                                \\n                                                \\n                                                \\n                                                \\n                                                \\n                                                \\n                                                \\n                                                \\n                                                \\n                                                \\n                                                \\n                                                \\n                                                \\n                                                \\n                                                \\n                                                \\n                                                \\n                                                \\n</body>\\n</html>\\n'\n",
      "Failed polling AutoML progress log: HTTP 500 Server Error:\n",
      "'<html>\\n<head>\\n<meta http-equiv=\"Content-Type\" content=\"text/html;charset=ISO-8859-1\"/>\\n<title>Error 500 Server Error</title>\\n</head>\\n<body>\\n<h2>HTTP ERROR: 500</h2>\\n<p>Problem accessing /3/PostFile. Reason:\\n<pre>    Server Error</pre></p>\\n\\n                                                \\n                                                \\n                                                \\n                                                \\n                                                \\n                                                \\n                                                \\n                                                \\n                                                \\n                                                \\n                                                \\n                                                \\n                                                \\n                                                \\n                                                \\n                                                \\n                                                \\n                                                \\n                                                \\n                                                \\n</body>\\n</html>\\n'\n",
      "Failed polling AutoML progress log: HTTP 500 Server Error:\n",
      "'<html>\\n<head>\\n<meta http-equiv=\"Content-Type\" content=\"text/html;charset=ISO-8859-1\"/>\\n<title>Error 500 Server Error</title>\\n</head>\\n<body>\\n<h2>HTTP ERROR: 500</h2>\\n<p>Problem accessing /3/PostFile. Reason:\\n<pre>    Server Error</pre></p>\\n\\n                                                \\n                                                \\n                                                \\n                                                \\n                                                \\n                                                \\n                                                \\n                                                \\n                                                \\n                                                \\n                                                \\n                                                \\n                                                \\n                                                \\n                                                \\n                                                \\n                                                \\n                                                \\n                                                \\n                                                \\n</body>\\n</html>\\n'\n",
      "Failed polling AutoML progress log: HTTP 500 Server Error:\n",
      "'<html>\\n<head>\\n<meta http-equiv=\"Content-Type\" content=\"text/html;charset=ISO-8859-1\"/>\\n<title>Error 500 Server Error</title>\\n</head>\\n<body>\\n<h2>HTTP ERROR: 500</h2>\\n<p>Problem accessing /3/PostFile. Reason:\\n<pre>    Server Error</pre></p>\\n\\n                                                \\n                                                \\n                                                \\n                                                \\n                                                \\n                                                \\n                                                \\n                                                \\n                                                \\n                                                \\n                                                \\n                                                \\n                                                \\n                                                \\n                                                \\n                                                \\n                                                \\n                                                \\n                                                \\n                                                \\n</body>\\n</html>\\n'\n",
      "Failed polling AutoML progress log: HTTP 500 Server Error:\n",
      "'<html>\\n<head>\\n<meta http-equiv=\"Content-Type\" content=\"text/html;charset=ISO-8859-1\"/>\\n<title>Error 500 Server Error</title>\\n</head>\\n<body>\\n<h2>HTTP ERROR: 500</h2>\\n<p>Problem accessing /3/PostFile. Reason:\\n<pre>    Server Error</pre></p>\\n\\n                                                \\n                                                \\n                                                \\n                                                \\n                                                \\n                                                \\n                                                \\n                                                \\n                                                \\n                                                \\n                                                \\n                                                \\n                                                \\n                                                \\n                                                \\n                                                \\n                                                \\n                                                \\n                                                \\n                                                \\n</body>\\n</html>\\n'\n",
      "Failed polling AutoML progress log: HTTP 500 Server Error:\n"
     ]
    },
    {
     "name": "stdout",
     "output_type": "stream",
     "text": [
      "'<html>\\n<head>\\n<meta http-equiv=\"Content-Type\" content=\"text/html;charset=ISO-8859-1\"/>\\n<title>Error 500 Server Error</title>\\n</head>\\n<body>\\n<h2>HTTP ERROR: 500</h2>\\n<p>Problem accessing /3/PostFile. Reason:\\n<pre>    Server Error</pre></p>\\n\\n                                                \\n                                                \\n                                                \\n                                                \\n                                                \\n                                                \\n                                                \\n                                                \\n                                                \\n                                                \\n                                                \\n                                                \\n                                                \\n                                                \\n                                                \\n                                                \\n                                                \\n                                                \\n                                                \\n                                                \\n</body>\\n</html>\\n'\n",
      "Failed polling AutoML progress log: HTTP 500 Server Error:\n",
      "'<html>\\n<head>\\n<meta http-equiv=\"Content-Type\" content=\"text/html;charset=ISO-8859-1\"/>\\n<title>Error 500 Server Error</title>\\n</head>\\n<body>\\n<h2>HTTP ERROR: 500</h2>\\n<p>Problem accessing /3/PostFile. Reason:\\n<pre>    Server Error</pre></p>\\n\\n                                                \\n                                                \\n                                                \\n                                                \\n                                                \\n                                                \\n                                                \\n                                                \\n                                                \\n                                                \\n                                                \\n                                                \\n                                                \\n                                                \\n                                                \\n                                                \\n                                                \\n                                                \\n                                                \\n                                                \\n</body>\\n</html>\\n'\n",
      "Failed polling AutoML progress log: HTTP 500 Server Error:\n",
      "'<html>\\n<head>\\n<meta http-equiv=\"Content-Type\" content=\"text/html;charset=ISO-8859-1\"/>\\n<title>Error 500 Server Error</title>\\n</head>\\n<body>\\n<h2>HTTP ERROR: 500</h2>\\n<p>Problem accessing /3/PostFile. Reason:\\n<pre>    Server Error</pre></p>\\n\\n                                                \\n                                                \\n                                                \\n                                                \\n                                                \\n                                                \\n                                                \\n                                                \\n                                                \\n                                                \\n                                                \\n                                                \\n                                                \\n                                                \\n                                                \\n                                                \\n                                                \\n                                                \\n                                                \\n                                                \\n</body>\\n</html>\\n'\n",
      "█Failed polling AutoML progress log: HTTP 500 Server Error:\n",
      "'<html>\\n<head>\\n<meta http-equiv=\"Content-Type\" content=\"text/html;charset=ISO-8859-1\"/>\\n<title>Error 500 Server Error</title>\\n</head>\\n<body>\\n<h2>HTTP ERROR: 500</h2>\\n<p>Problem accessing /3/PostFile. Reason:\\n<pre>    Server Error</pre></p>\\n\\n                                                \\n                                                \\n                                                \\n                                                \\n                                                \\n                                                \\n                                                \\n                                                \\n                                                \\n                                                \\n                                                \\n                                                \\n                                                \\n                                                \\n                                                \\n                                                \\n                                                \\n                                                \\n                                                \\n                                                \\n</body>\\n</html>\\n'\n",
      "Failed polling AutoML progress log: HTTP 500 Server Error:\n",
      "'<html>\\n<head>\\n<meta http-equiv=\"Content-Type\" content=\"text/html;charset=ISO-8859-1\"/>\\n<title>Error 500 Server Error</title>\\n</head>\\n<body>\\n<h2>HTTP ERROR: 500</h2>\\n<p>Problem accessing /3/PostFile. Reason:\\n<pre>    Server Error</pre></p>\\n\\n                                                \\n                                                \\n                                                \\n                                                \\n                                                \\n                                                \\n                                                \\n                                                \\n                                                \\n                                                \\n                                                \\n                                                \\n                                                \\n                                                \\n                                                \\n                                                \\n                                                \\n                                                \\n                                                \\n                                                \\n</body>\\n</html>\\n'\n",
      "Failed polling AutoML progress log: HTTP 500 Server Error:\n",
      "'<html>\\n<head>\\n<meta http-equiv=\"Content-Type\" content=\"text/html;charset=ISO-8859-1\"/>\\n<title>Error 500 Server Error</title>\\n</head>\\n<body>\\n<h2>HTTP ERROR: 500</h2>\\n<p>Problem accessing /3/PostFile. Reason:\\n<pre>    Server Error</pre></p>\\n\\n                                                \\n                                                \\n                                                \\n                                                \\n                                                \\n                                                \\n                                                \\n                                                \\n                                                \\n                                                \\n                                                \\n                                                \\n                                                \\n                                                \\n                                                \\n                                                \\n                                                \\n                                                \\n                                                \\n                                                \\n</body>\\n</html>\\n'\n",
      "Failed polling AutoML progress log: HTTP 500 Server Error:\n"
     ]
    },
    {
     "name": "stdout",
     "output_type": "stream",
     "text": [
      "'<html>\\n<head>\\n<meta http-equiv=\"Content-Type\" content=\"text/html;charset=ISO-8859-1\"/>\\n<title>Error 500 Server Error</title>\\n</head>\\n<body>\\n<h2>HTTP ERROR: 500</h2>\\n<p>Problem accessing /3/PostFile. Reason:\\n<pre>    Server Error</pre></p>\\n\\n                                                \\n                                                \\n                                                \\n                                                \\n                                                \\n                                                \\n                                                \\n                                                \\n                                                \\n                                                \\n                                                \\n                                                \\n                                                \\n                                                \\n                                                \\n                                                \\n                                                \\n                                                \\n                                                \\n                                                \\n</body>\\n</html>\\n'\n",
      "Failed polling AutoML progress log: HTTP 500 Server Error:\n",
      "'<html>\\n<head>\\n<meta http-equiv=\"Content-Type\" content=\"text/html;charset=ISO-8859-1\"/>\\n<title>Error 500 Server Error</title>\\n</head>\\n<body>\\n<h2>HTTP ERROR: 500</h2>\\n<p>Problem accessing /3/PostFile. Reason:\\n<pre>    Server Error</pre></p>\\n\\n                                                \\n                                                \\n                                                \\n                                                \\n                                                \\n                                                \\n                                                \\n                                                \\n                                                \\n                                                \\n                                                \\n                                                \\n                                                \\n                                                \\n                                                \\n                                                \\n                                                \\n                                                \\n                                                \\n                                                \\n</body>\\n</html>\\n'\n",
      "Failed polling AutoML progress log: HTTP 500 Server Error:\n",
      "'<html>\\n<head>\\n<meta http-equiv=\"Content-Type\" content=\"text/html;charset=ISO-8859-1\"/>\\n<title>Error 500 Server Error</title>\\n</head>\\n<body>\\n<h2>HTTP ERROR: 500</h2>\\n<p>Problem accessing /3/PostFile. Reason:\\n<pre>    Server Error</pre></p>\\n\\n                                                \\n                                                \\n                                                \\n                                                \\n                                                \\n                                                \\n                                                \\n                                                \\n                                                \\n                                                \\n                                                \\n                                                \\n                                                \\n                                                \\n                                                \\n                                                \\n                                                \\n                                                \\n                                                \\n                                                \\n</body>\\n</html>\\n'\n",
      "Failed polling AutoML progress log: HTTP 500 java.lang.OutOfMemoryError: GC overhead limit exceeded:\n",
      "'<html>\\n<head>\\n<meta http-equiv=\"Content-Type\" content=\"text/html;charset=ISO-8859-1\"/>\\n<title>Error 500 java.lang.OutOfMemoryError: GC overhead limit exceeded\\r\\n</title>\\n</head>\\n<body>\\n<h2>HTTP ERROR: 500</h2>\\n<p>Problem accessing /99/AutoML/AutoML_20200211_163820728@@did_crash_happen. Reason:\\n<pre>    java.lang.OutOfMemoryError: GC overhead limit exceeded\\r\\n</pre></p>\\n\\n                                                \\n                                                \\n                                                \\n                                                \\n                                                \\n                                                \\n                                                \\n                                                \\n                                                \\n                                                \\n                                                \\n                                                \\n                                                \\n                                                \\n                                                \\n                                                \\n                                                \\n                                                \\n                                                \\n                                                \\n</body>\\n</html>\\n'\n",
      "Failed polling AutoML progress log: HTTP 500 Server Error:\n",
      "'<html>\\n<head>\\n<meta http-equiv=\"Content-Type\" content=\"text/html;charset=ISO-8859-1\"/>\\n<title>Error 500 Server Error</title>\\n</head>\\n<body>\\n<h2>HTTP ERROR: 500</h2>\\n<p>Problem accessing /3/PostFile. Reason:\\n<pre>    Server Error</pre></p>\\n\\n                                                \\n                                                \\n                                                \\n                                                \\n                                                \\n                                                \\n                                                \\n                                                \\n                                                \\n                                                \\n                                                \\n                                                \\n                                                \\n                                                \\n                                                \\n                                                \\n                                                \\n                                                \\n                                                \\n                                                \\n</body>\\n</html>\\n'\n",
      "Failed polling AutoML progress log: HTTP 500 Server Error:\n",
      "'<html>\\n<head>\\n<meta http-equiv=\"Content-Type\" content=\"text/html;charset=ISO-8859-1\"/>\\n<title>Error 500 Server Error</title>\\n</head>\\n<body>\\n<h2>HTTP ERROR: 500</h2>\\n<p>Problem accessing /3/PostFile. Reason:\\n<pre>    Server Error</pre></p>\\n\\n                                                \\n                                                \\n                                                \\n                                                \\n                                                \\n                                                \\n                                                \\n                                                \\n                                                \\n                                                \\n                                                \\n                                                \\n                                                \\n                                                \\n                                                \\n                                                \\n                                                \\n                                                \\n                                                \\n                                                \\n</body>\\n</html>\\n'\n",
      "Failed polling AutoML progress log: HTTP 500 Server Error:\n"
     ]
    },
    {
     "name": "stdout",
     "output_type": "stream",
     "text": [
      "'<html>\\n<head>\\n<meta http-equiv=\"Content-Type\" content=\"text/html;charset=ISO-8859-1\"/>\\n<title>Error 500 Server Error</title>\\n</head>\\n<body>\\n<h2>HTTP ERROR: 500</h2>\\n<p>Problem accessing /3/PostFile. Reason:\\n<pre>    Server Error</pre></p>\\n\\n                                                \\n                                                \\n                                                \\n                                                \\n                                                \\n                                                \\n                                                \\n                                                \\n                                                \\n                                                \\n                                                \\n                                                \\n                                                \\n                                                \\n                                                \\n                                                \\n                                                \\n                                                \\n                                                \\n                                                \\n</body>\\n</html>\\n'\n",
      "Failed polling AutoML progress log: HTTP 500 Server Error:\n",
      "'<html>\\n<head>\\n<meta http-equiv=\"Content-Type\" content=\"text/html;charset=ISO-8859-1\"/>\\n<title>Error 500 Server Error</title>\\n</head>\\n<body>\\n<h2>HTTP ERROR: 500</h2>\\n<p>Problem accessing /3/PostFile. Reason:\\n<pre>    Server Error</pre></p>\\n\\n                                                \\n                                                \\n                                                \\n                                                \\n                                                \\n                                                \\n                                                \\n                                                \\n                                                \\n                                                \\n                                                \\n                                                \\n                                                \\n                                                \\n                                                \\n                                                \\n                                                \\n                                                \\n                                                \\n                                                \\n</body>\\n</html>\\n'\n",
      "Failed polling AutoML progress log: HTTP 500 Server Error:\n",
      "'<html>\\n<head>\\n<meta http-equiv=\"Content-Type\" content=\"text/html;charset=ISO-8859-1\"/>\\n<title>Error 500 Server Error</title>\\n</head>\\n<body>\\n<h2>HTTP ERROR: 500</h2>\\n<p>Problem accessing /3/PostFile. Reason:\\n<pre>    Server Error</pre></p>\\n\\n                                                \\n                                                \\n                                                \\n                                                \\n                                                \\n                                                \\n                                                \\n                                                \\n                                                \\n                                                \\n                                                \\n                                                \\n                                                \\n                                                \\n                                                \\n                                                \\n                                                \\n                                                \\n                                                \\n                                                \\n</body>\\n</html>\\n'\n",
      "█Failed polling AutoML progress log: HTTP 500 Server Error:\n",
      "'<html>\\n<head>\\n<meta http-equiv=\"Content-Type\" content=\"text/html;charset=ISO-8859-1\"/>\\n<title>Error 500 Server Error</title>\\n</head>\\n<body>\\n<h2>HTTP ERROR: 500</h2>\\n<p>Problem accessing /3/PostFile. Reason:\\n<pre>    Server Error</pre></p>\\n\\n                                                \\n                                                \\n                                                \\n                                                \\n                                                \\n                                                \\n                                                \\n                                                \\n                                                \\n                                                \\n                                                \\n                                                \\n                                                \\n                                                \\n                                                \\n                                                \\n                                                \\n                                                \\n                                                \\n                                                \\n</body>\\n</html>\\n'\n",
      "Failed polling AutoML progress log: HTTP 500 Server Error:\n",
      "'<html>\\n<head>\\n<meta http-equiv=\"Content-Type\" content=\"text/html;charset=ISO-8859-1\"/>\\n<title>Error 500 Server Error</title>\\n</head>\\n<body>\\n<h2>HTTP ERROR: 500</h2>\\n<p>Problem accessing /3/PostFile. Reason:\\n<pre>    Server Error</pre></p>\\n\\n                                                \\n                                                \\n                                                \\n                                                \\n                                                \\n                                                \\n                                                \\n                                                \\n                                                \\n                                                \\n                                                \\n                                                \\n                                                \\n                                                \\n                                                \\n                                                \\n                                                \\n                                                \\n                                                \\n                                                \\n</body>\\n</html>\\n'\n",
      "Failed polling AutoML progress log: HTTP 500 Server Error:\n",
      "'<html>\\n<head>\\n<meta http-equiv=\"Content-Type\" content=\"text/html;charset=ISO-8859-1\"/>\\n<title>Error 500 Server Error</title>\\n</head>\\n<body>\\n<h2>HTTP ERROR: 500</h2>\\n<p>Problem accessing /3/PostFile. Reason:\\n<pre>    Server Error</pre></p>\\n\\n                                                \\n                                                \\n                                                \\n                                                \\n                                                \\n                                                \\n                                                \\n                                                \\n                                                \\n                                                \\n                                                \\n                                                \\n                                                \\n                                                \\n                                                \\n                                                \\n                                                \\n                                                \\n                                                \\n                                                \\n</body>\\n</html>\\n'\n",
      "Failed polling AutoML progress log: HTTP 500 Server Error:\n"
     ]
    },
    {
     "name": "stdout",
     "output_type": "stream",
     "text": [
      "'<html>\\n<head>\\n<meta http-equiv=\"Content-Type\" content=\"text/html;charset=ISO-8859-1\"/>\\n<title>Error 500 Server Error</title>\\n</head>\\n<body>\\n<h2>HTTP ERROR: 500</h2>\\n<p>Problem accessing /3/PostFile. Reason:\\n<pre>    Server Error</pre></p>\\n\\n                                                \\n                                                \\n                                                \\n                                                \\n                                                \\n                                                \\n                                                \\n                                                \\n                                                \\n                                                \\n                                                \\n                                                \\n                                                \\n                                                \\n                                                \\n                                                \\n                                                \\n                                                \\n                                                \\n                                                \\n</body>\\n</html>\\n'\n",
      "Failed polling AutoML progress log: HTTP 500 Server Error:\n",
      "'<html>\\n<head>\\n<meta http-equiv=\"Content-Type\" content=\"text/html;charset=ISO-8859-1\"/>\\n<title>Error 500 Server Error</title>\\n</head>\\n<body>\\n<h2>HTTP ERROR: 500</h2>\\n<p>Problem accessing /3/PostFile. Reason:\\n<pre>    Server Error</pre></p>\\n\\n                                                \\n                                                \\n                                                \\n                                                \\n                                                \\n                                                \\n                                                \\n                                                \\n                                                \\n                                                \\n                                                \\n                                                \\n                                                \\n                                                \\n                                                \\n                                                \\n                                                \\n                                                \\n                                                \\n                                                \\n</body>\\n</html>\\n'\n",
      "\n",
      "17:37:24.847: GBM_4_AutoML_20200211_163820 [GBM def_4] failed: DistributedException from /127.0.0.1:54321: 'GC overhead limit exceeded', caused by java.lang.OutOfMemoryError: GC overhead limit exceeded\n",
      "\n",
      "\n",
      "17:37:41.399: GBM_5_AutoML_20200211_163820 [GBM def_5] failed: DistributedException from /127.0.0.1:54321: 'GC overhead limit exceeded', caused by java.lang.OutOfMemoryError: GC overhead limit exceeded\n",
      "\n",
      "█| 100%\n",
      "\n",
      "17:38:22.240: DeepLearning_1_AutoML_20200211_163820 [DeepLearning def_1] failed: DistributedException from /127.0.0.1:54321: 'null', caused by java.lang.NullPointerException\n",
      "\n"
     ]
    }
   ],
   "source": [
    "aml = H2OAutoML(max_runtime_secs = 3600, seed = 1, balance_classes=True, stopping_metric='AUCPR', sort_metric='AUCPR', exclude_algos=['StackedEnsemble'])\n",
    "aml.train(x = x, y = y, \\\n",
    "          training_frame = df_train_regular, leaderboard_frame = df_test_regular, validation_frame = df_validate_regular\n",
    "         )"
   ]
  },
  {
   "cell_type": "code",
   "execution_count": 14,
   "metadata": {},
   "outputs": [
    {
     "data": {
      "text/html": [
       "<table>\n",
       "<thead>\n",
       "<tr><th>model_id                    </th><th style=\"text-align: right;\">   aucpr</th><th style=\"text-align: right;\">     auc</th><th style=\"text-align: right;\">  logloss</th><th style=\"text-align: right;\">  mean_per_class_error</th><th style=\"text-align: right;\">    rmse</th><th style=\"text-align: right;\">     mse</th></tr>\n",
       "</thead>\n",
       "<tbody>\n",
       "<tr><td>GBM_3_AutoML_20200211_163820</td><td style=\"text-align: right;\">0.432454</td><td style=\"text-align: right;\">0.733728</td><td style=\"text-align: right;\"> 0.472108</td><td style=\"text-align: right;\">              0.329611</td><td style=\"text-align: right;\">0.392153</td><td style=\"text-align: right;\">0.153784</td></tr>\n",
       "<tr><td>GBM_2_AutoML_20200211_163820</td><td style=\"text-align: right;\">0.430944</td><td style=\"text-align: right;\">0.733051</td><td style=\"text-align: right;\"> 0.472497</td><td style=\"text-align: right;\">              0.329524</td><td style=\"text-align: right;\">0.392358</td><td style=\"text-align: right;\">0.153945</td></tr>\n",
       "<tr><td>GBM_1_AutoML_20200211_163820</td><td style=\"text-align: right;\">0.42968 </td><td style=\"text-align: right;\">0.732394</td><td style=\"text-align: right;\"> 0.47286 </td><td style=\"text-align: right;\">              0.330269</td><td style=\"text-align: right;\">0.392539</td><td style=\"text-align: right;\">0.154086</td></tr>\n",
       "<tr><td>GLM_1_AutoML_20200211_163820</td><td style=\"text-align: right;\">0.417403</td><td style=\"text-align: right;\">0.720471</td><td style=\"text-align: right;\"> 0.479948</td><td style=\"text-align: right;\">              0.336571</td><td style=\"text-align: right;\">0.395087</td><td style=\"text-align: right;\">0.156094</td></tr>\n",
       "</tbody>\n",
       "</table>"
      ]
     },
     "metadata": {},
     "output_type": "display_data"
    },
    {
     "data": {
      "text/plain": []
     },
     "execution_count": 14,
     "metadata": {},
     "output_type": "execute_result"
    }
   ],
   "source": [
    "lb = aml.leaderboard\n",
    "lb"
   ]
  },
  {
   "cell_type": "code",
   "execution_count": null,
   "metadata": {},
   "outputs": [],
   "source": [
    "drf_1_model = h2o.get_model('DRF_1_AutoML_20200209_085106')"
   ]
  },
  {
   "cell_type": "code",
   "execution_count": null,
   "metadata": {},
   "outputs": [],
   "source": [
    "drf_1_model"
   ]
  },
  {
   "cell_type": "code",
   "execution_count": null,
   "metadata": {},
   "outputs": [],
   "source": [
    "figure()\n",
    "model_performance_without_training = drf_1_model.model_performance(train=False)\n",
    "model_performance_without_training.plot(type='roc')"
   ]
  },
  {
   "cell_type": "code",
   "execution_count": null,
   "metadata": {},
   "outputs": [],
   "source": [
    "figure()\n",
    "model_performance_with_training = drf_1_model.model_performance(df_test)\n",
    "model_performance_with_training.plot(type='roc')"
   ]
  },
  {
   "cell_type": "code",
   "execution_count": null,
   "metadata": {},
   "outputs": [],
   "source": [
    "#draw out a precision recall curve"
   ]
  },
  {
   "cell_type": "code",
   "execution_count": null,
   "metadata": {},
   "outputs": [],
   "source": [
    "from sklearn.metrics import roc_curve"
   ]
  },
  {
   "cell_type": "code",
   "execution_count": null,
   "metadata": {},
   "outputs": [],
   "source": [
    "df_to_graph = df_test\n",
    "actual_results = df_to_graph['did_crash_happen']\n",
    "predictions = drf_1_model.predict(df_to_graph)\n",
    "predictions"
   ]
  },
  {
   "cell_type": "code",
   "execution_count": null,
   "metadata": {},
   "outputs": [],
   "source": [
    "%matplotlib notebook\n",
    "from sklearn.metrics import roc_curve, precision_recall_curve, auc\n",
    "import matplotlib.pyplot as plt\n",
    "import numpy as np"
   ]
  },
  {
   "cell_type": "code",
   "execution_count": null,
   "metadata": {},
   "outputs": [],
   "source": [
    "h2o_predictions = predictions.as_data_frame()\n",
    "h2o_predictions"
   ]
  },
  {
   "cell_type": "code",
   "execution_count": null,
   "metadata": {},
   "outputs": [],
   "source": [
    "probas_pred = h2o_predictions['p1'].to_numpy()"
   ]
  },
  {
   "cell_type": "code",
   "execution_count": null,
   "metadata": {},
   "outputs": [],
   "source": [
    "y_true = actual_results.as_data_frame().to_numpy()"
   ]
  },
  {
   "cell_type": "code",
   "execution_count": null,
   "metadata": {},
   "outputs": [],
   "source": [
    "precision, recall, thresholds = precision_recall_curve(y_true, probas_pred)"
   ]
  },
  {
   "cell_type": "code",
   "execution_count": null,
   "metadata": {},
   "outputs": [],
   "source": [
    "# plot the precision-recall curves\n",
    "no_skill = len(y_true[y_true==1]) / len(y_true)\n",
    "plt.plot([0, 1], [no_skill, no_skill], linestyle='--', label='No Skill')\n",
    "plt.plot(recall, precision, marker='.', label='H2O')\n",
    "\n",
    "# axis labels\n",
    "plt.xlabel('Recall')\n",
    "plt.ylabel('Precision')\n",
    "\n",
    "# show the legend\n",
    "plt.legend()\n",
    "# show the plot\n",
    "plt.show()"
   ]
  },
  {
   "cell_type": "code",
   "execution_count": 15,
   "metadata": {},
   "outputs": [
    {
     "name": "stderr",
     "output_type": "stream",
     "text": [
      "C:\\Users\\alexf\\Anaconda3\\envs\\NYC_CRASH_ENV\\lib\\site-packages\\ipykernel_launcher.py:1: DeprecationWarning: Deprecated, use ``h2o.cluster().shutdown()``.\n",
      "  \"\"\"Entry point for launching an IPython kernel.\n"
     ]
    },
    {
     "name": "stdout",
     "output_type": "stream",
     "text": [
      "H2O session _sid_a9b2 closed.\n"
     ]
    }
   ],
   "source": [
    "h2o.shutdown()"
   ]
  },
  {
   "cell_type": "code",
   "execution_count": null,
   "metadata": {},
   "outputs": [],
   "source": []
  }
 ],
 "metadata": {
  "kernelspec": {
   "display_name": "Python 3",
   "language": "python",
   "name": "python3"
  },
  "language_info": {
   "codemirror_mode": {
    "name": "ipython",
    "version": 3
   },
   "file_extension": ".py",
   "mimetype": "text/x-python",
   "name": "python",
   "nbconvert_exporter": "python",
   "pygments_lexer": "ipython3",
   "version": "3.7.3"
  }
 },
 "nbformat": 4,
 "nbformat_minor": 4
}
